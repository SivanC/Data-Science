{
 "cells": [
  {
   "cell_type": "code",
   "execution_count": 109,
   "metadata": {
    "collapsed": true
   },
   "outputs": [
    {
     "name": "stdout",
     "output_type": "stream",
     "text": [
      "Requirement already satisfied: datascience in d:\\anaconda\\lib\\site-packages (0.10.6)\n",
      "Requirement already satisfied: setuptools in d:\\anaconda\\lib\\site-packages (from datascience) (40.2.0)\n",
      "Requirement already satisfied: sphinx in d:\\anaconda\\lib\\site-packages (from datascience) (1.7.9)\n",
      "Requirement already satisfied: pytest in d:\\anaconda\\lib\\site-packages (from datascience) (3.8.0)\n",
      "Requirement already satisfied: folium==0.2.1 in d:\\anaconda\\lib\\site-packages (from datascience) (0.2.1)\n",
      "Requirement already satisfied: coverage==3.7.1 in d:\\anaconda\\lib\\site-packages (from datascience) (3.7.1)\n",
      "Requirement already satisfied: coveralls==0.5 in d:\\anaconda\\lib\\site-packages (from datascience) (0.5)\n",
      "Requirement already satisfied: six>=1.5 in d:\\anaconda\\lib\\site-packages (from sphinx->datascience) (1.11.0)\n",
      "Requirement already satisfied: Jinja2>=2.3 in d:\\anaconda\\lib\\site-packages (from sphinx->datascience) (2.10)\n",
      "Requirement already satisfied: Pygments>=2.0 in d:\\anaconda\\lib\\site-packages (from sphinx->datascience) (2.2.0)\n",
      "Requirement already satisfied: docutils>=0.11 in d:\\anaconda\\lib\\site-packages (from sphinx->datascience) (0.14)\n",
      "Requirement already satisfied: snowballstemmer>=1.1 in d:\\anaconda\\lib\\site-packages (from sphinx->datascience) (1.2.1)\n",
      "Requirement already satisfied: babel!=2.0,>=1.3 in d:\\anaconda\\lib\\site-packages (from sphinx->datascience) (2.6.0)\n",
      "Requirement already satisfied: alabaster<0.8,>=0.7 in d:\\anaconda\\lib\\site-packages (from sphinx->datascience) (0.7.11)\n",
      "Requirement already satisfied: imagesize in d:\\anaconda\\lib\\site-packages (from sphinx->datascience) (1.1.0)\n",
      "Requirement already satisfied: requests>=2.0.0 in d:\\anaconda\\lib\\site-packages (from sphinx->datascience) (2.19.1)\n",
      "Requirement already satisfied: packaging in d:\\anaconda\\lib\\site-packages (from sphinx->datascience) (17.1)\n",
      "Requirement already satisfied: sphinxcontrib-websupport in d:\\anaconda\\lib\\site-packages (from sphinx->datascience) (1.1.0)\n",
      "Requirement already satisfied: colorama>=0.3.5 in d:\\anaconda\\lib\\site-packages (from sphinx->datascience) (0.3.9)\n",
      "Requirement already satisfied: py>=1.5.0 in d:\\anaconda\\lib\\site-packages (from pytest->datascience) (1.6.0)\n",
      "Requirement already satisfied: attrs>=17.4.0 in d:\\anaconda\\lib\\site-packages (from pytest->datascience) (18.2.0)\n",
      "Requirement already satisfied: more-itertools>=4.0.0 in d:\\anaconda\\lib\\site-packages (from pytest->datascience) (4.3.0)\n",
      "Requirement already satisfied: atomicwrites>=1.0 in d:\\anaconda\\lib\\site-packages (from pytest->datascience) (1.2.1)\n",
      "Requirement already satisfied: pluggy>=0.7 in d:\\anaconda\\lib\\site-packages (from pytest->datascience) (0.7.1)\n",
      "Requirement already satisfied: PyYAML>=3.10 in d:\\anaconda\\lib\\site-packages (from coveralls==0.5->datascience) (3.13)\n",
      "Requirement already satisfied: docopt>=0.6.1 in d:\\anaconda\\lib\\site-packages (from coveralls==0.5->datascience) (0.6.2)\n",
      "Requirement already satisfied: MarkupSafe>=0.23 in d:\\anaconda\\lib\\site-packages (from Jinja2>=2.3->sphinx->datascience) (1.0)\n",
      "Requirement already satisfied: pytz>=0a in d:\\anaconda\\lib\\site-packages (from babel!=2.0,>=1.3->sphinx->datascience) (2018.5)\n",
      "Requirement already satisfied: idna<2.8,>=2.5 in d:\\anaconda\\lib\\site-packages (from requests>=2.0.0->sphinx->datascience) (2.7)\n",
      "Requirement already satisfied: urllib3<1.24,>=1.21.1 in d:\\anaconda\\lib\\site-packages (from requests>=2.0.0->sphinx->datascience) (1.23)\n",
      "Requirement already satisfied: certifi>=2017.4.17 in d:\\anaconda\\lib\\site-packages (from requests>=2.0.0->sphinx->datascience) (2018.8.24)\n",
      "Requirement already satisfied: chardet<3.1.0,>=3.0.2 in d:\\anaconda\\lib\\site-packages (from requests>=2.0.0->sphinx->datascience) (3.0.4)\n",
      "Requirement already satisfied: pyparsing>=2.0.2 in d:\\anaconda\\lib\\site-packages (from packaging->sphinx->datascience) (2.2.0)\n"
     ]
    },
    {
     "name": "stderr",
     "output_type": "stream",
     "text": [
      "twisted 18.7.0 requires PyHamcrest>=1.9.0, which is not installed.\n",
      "You are using pip version 10.0.1, however version 18.1 is available.\n",
      "You should consider upgrading via the 'python -m pip install --upgrade pip' command.\n"
     ]
    },
    {
     "name": "stdout",
     "output_type": "stream",
     "text": [
      "Requirement already satisfied: wget in d:\\anaconda\\lib\\site-packages (3.2)\n"
     ]
    },
    {
     "name": "stderr",
     "output_type": "stream",
     "text": [
      "twisted 18.7.0 requires PyHamcrest>=1.9.0, which is not installed.\n",
      "You are using pip version 10.0.1, however version 18.1 is available.\n",
      "You should consider upgrading via the 'python -m pip install --upgrade pip' command.\n"
     ]
    },
    {
     "name": "stdout",
     "output_type": "stream",
     "text": [
      "Requirement already satisfied: plotly in d:\\anaconda\\lib\\site-packages (3.3.0)\n",
      "Requirement already satisfied: requests in d:\\anaconda\\lib\\site-packages (from plotly) (2.19.1)\n",
      "Requirement already satisfied: six in d:\\anaconda\\lib\\site-packages (from plotly) (1.11.0)\n",
      "Requirement already satisfied: decorator>=4.0.6 in d:\\anaconda\\lib\\site-packages (from plotly) (4.3.0)\n",
      "Requirement already satisfied: retrying>=1.3.3 in d:\\anaconda\\lib\\site-packages (from plotly) (1.3.3)\n",
      "Requirement already satisfied: pytz in d:\\anaconda\\lib\\site-packages (from plotly) (2018.5)\n",
      "Requirement already satisfied: nbformat>=4.2 in d:\\anaconda\\lib\\site-packages (from plotly) (4.4.0)\n",
      "Requirement already satisfied: certifi>=2017.4.17 in d:\\anaconda\\lib\\site-packages (from requests->plotly) (2018.8.24)\n",
      "Requirement already satisfied: chardet<3.1.0,>=3.0.2 in d:\\anaconda\\lib\\site-packages (from requests->plotly) (3.0.4)\n",
      "Requirement already satisfied: urllib3<1.24,>=1.21.1 in d:\\anaconda\\lib\\site-packages (from requests->plotly) (1.23)\n",
      "Requirement already satisfied: idna<2.8,>=2.5 in d:\\anaconda\\lib\\site-packages (from requests->plotly) (2.7)\n",
      "Requirement already satisfied: jupyter-core in d:\\anaconda\\lib\\site-packages (from nbformat>=4.2->plotly) (4.4.0)\n",
      "Requirement already satisfied: traitlets>=4.1 in d:\\anaconda\\lib\\site-packages (from nbformat>=4.2->plotly) (4.3.2)\n",
      "Requirement already satisfied: jsonschema!=2.5.0,>=2.4 in d:\\anaconda\\lib\\site-packages (from nbformat>=4.2->plotly) (2.6.0)\n",
      "Requirement already satisfied: ipython-genutils in d:\\anaconda\\lib\\site-packages (from nbformat>=4.2->plotly) (0.2.0)\n"
     ]
    },
    {
     "name": "stderr",
     "output_type": "stream",
     "text": [
      "twisted 18.7.0 requires PyHamcrest>=1.9.0, which is not installed.\n",
      "You are using pip version 10.0.1, however version 18.1 is available.\n",
      "You should consider upgrading via the 'python -m pip install --upgrade pip' command.\n"
     ]
    },
    {
     "name": "stdout",
     "output_type": "stream",
     "text": [
      "Collecting pdb\n"
     ]
    },
    {
     "name": "stderr",
     "output_type": "stream",
     "text": [
      "  Could not find a version that satisfies the requirement pdb (from versions: )\n",
      "No matching distribution found for pdb\n",
      "You are using pip version 10.0.1, however version 18.1 is available.\n",
      "You should consider upgrading via the 'python -m pip install --upgrade pip' command.\n"
     ]
    }
   ],
   "source": [
    "!pip install datascience\n",
    "!pip install wget\n",
    "!pip install plotly\n",
    "!pip install pdb\n",
    "\n",
    "from datascience import *\n",
    "from plotly.offline import plot\n",
    "import wget\n",
    "import plotly.plotly as py\n",
    "import plotly.graph_objs as go\n",
    "import math\n",
    "import pdb"
   ]
  },
  {
   "cell_type": "code",
   "execution_count": 13,
   "metadata": {
    "collapsed": true
   },
   "outputs": [
    {
     "name": "stdout",
     "output_type": "stream",
     "text": [
      "\r",
      "  0% [                                                                            ]      0 / 306068\r",
      "  2% [..                                                                          ]   8192 / 306068\r",
      "  5% [....                                                                        ]  16384 / 306068\r",
      "  8% [......                                                                      ]  24576 / 306068\r",
      " 10% [........                                                                    ]  32768 / 306068\r",
      " 13% [..........                                                                  ]  40960 / 306068\r",
      " 16% [............                                                                ]  49152 / 306068\r",
      " 18% [..............                                                              ]  57344 / 306068\r",
      " 21% [................                                                            ]  65536 / 306068\r",
      " 24% [..................                                                          ]  73728 / 306068\r",
      " 26% [....................                                                        ]  81920 / 306068\r",
      " 29% [......................                                                      ]  90112 / 306068\r",
      " 32% [........................                                                    ]  98304 / 306068\r",
      " 34% [..........................                                                  ] 106496 / 306068\r",
      " 37% [............................                                                ] 114688 / 306068\r",
      " 40% [..............................                                              ] 122880 / 306068\r",
      " 42% [................................                                            ] 131072 / 306068\r",
      " 45% [..................................                                          ] 139264 / 306068\r",
      " 48% [....................................                                        ] 147456 / 306068\r",
      " 50% [......................................                                      ] 155648 / 306068\r",
      " 53% [........................................                                    ] 163840 / 306068\r",
      " 56% [..........................................                                  ] 172032 / 306068\r",
      " 58% [............................................                                ] 180224 / 306068\r",
      " 61% [..............................................                              ] 188416 / 306068\r",
      " 64% [................................................                            ] 196608 / 306068\r",
      " 66% [..................................................                          ] 204800 / 306068\r",
      " 69% [....................................................                        ] 212992 / 306068\r",
      " 72% [......................................................                      ] 221184 / 306068\r",
      " 74% [........................................................                    ] 229376 / 306068\r",
      " 77% [..........................................................                  ] 237568 / 306068\r",
      " 80% [.............................................................               ] 245760 / 306068\r",
      " 82% [...............................................................             ] 253952 / 306068\r",
      " 85% [.................................................................           ] 262144 / 306068\r",
      " 88% [...................................................................         ] 270336 / 306068\r",
      " 91% [.....................................................................       ] 278528 / 306068\r",
      " 93% [.......................................................................     ] 286720 / 306068\r",
      " 96% [.........................................................................   ] 294912 / 306068\r",
      " 99% [........................................................................... ] 303104 / 306068\r",
      "100% [............................................................................] 306068 / 306068"
     ]
    },
    {
     "data": {
      "text/plain": [
       "'sleeping-alone-data.csv'"
      ]
     },
     "execution_count": 13,
     "metadata": {},
     "output_type": "execute_result"
    }
   ],
   "source": [
    "wget.download('https://raw.githubusercontent.com/datasets/speed-dating/master/data/speed-dating.csv')"
   ]
  },
  {
   "cell_type": "code",
   "execution_count": 118,
   "metadata": {},
   "outputs": [
    {
     "data": {
      "text/plain": [
       "'file://C:\\\\Users\\\\Sivan Cooperman\\\\Desktop\\\\python\\\\Data-Science\\\\perIntOverSelfInt.html'"
      ]
     },
     "execution_count": 118,
     "metadata": {},
     "output_type": "execute_result"
    }
   ],
   "source": [
    "#Run to graph a user's rating of their intelligence against their speed dating partner's rating of the users intelligence, all over user ID\n",
    "\n",
    "def genNanList(numList):\n",
    "    \"\"\"Takes a list of numbers and NaNs and returns a list of booleans based on whether the number at that idex was a number or not\n",
    "        Ex:\n",
    "        >>> someList = [1, nan, 4, 3, nan, 0]\n",
    "        >>> genNanList(someList)\n",
    "        [True, False, True, True, False, True]\n",
    "    \"\"\"\n",
    "    retList = []\n",
    "    for numnan in numList:\n",
    "        retList.append(math.isnan(numnan) == False)\n",
    "    return retList\n",
    "\n",
    "#Initiating the master table\n",
    "dateData = Table.read_table('D:\\Datasets\\speed-dating.csv')\n",
    "\n",
    "#NaN lists for partner rating and self rating of intelligence\n",
    "intNansP = genNanList(dateData['intelligence_o'])\n",
    "intNansS = genNanList(dateData['intelligence'])\n",
    "\n",
    "#Creating a list of booleans. True means the correpsonding elements of the other lists are both True, and False means\n",
    "#at least one in either list is False. This is to pass into the where method to eliminate entries without a rating\n",
    "intNans = []\n",
    "for nannum in range(len(intNansP)):\n",
    "    if intNansS[nannum] == intNansP[nannum] and intNansS[nannum] == True:\n",
    "        intNans.append(True)\n",
    "    else:\n",
    "        intNans.append(False)\n",
    "\n",
    "#Convenient x-axis label for graphing both ratings on the y\n",
    "userID = list(range(len(intNans)))\n",
    "\n",
    "#Creates a table with just the two intelligence ranking columns, and a second table with a third column,\n",
    "#the difference between the two rankings, sorted by that ranking\n",
    "intelRanking = dateData.where(intNans).select('intelligence_o', 'intelligence')\n",
    "intByDiff = intelRanking.with_column('intDiff', np.abs(intelRanking['intelligence_o'] - intelRanking['intelligence'])).sort('intDiff', descending=True)\n",
    "\n",
    "#Formatting data for graphing\n",
    "pList = []\n",
    "sList = []\n",
    "\n",
    "for intP in intByDiff.column('intelligence_o'):\n",
    "    pList.append(intP)\n",
    "for intS in intByDiff.column('intelligence'):\n",
    "    sList.append(intS)\n",
    "\n",
    "#Graphing data\n",
    "trace0 = go.Scatter(x=userID, y=pList, mode='markers')\n",
    "trace1 = go.Scatter(x=userID, y=sList, mode='markers')\n",
    "plot([trace0, trace1], filename='perIntOverSelfInt.html')"
   ]
  },
  {
   "cell_type": "code",
   "execution_count": 137,
   "metadata": {},
   "outputs": [
    {
     "data": {
      "text/plain": [
       "'file://C:\\\\Users\\\\Sivan Cooperman\\\\Desktop\\\\python\\\\Data-Science\\\\raceDistDating.html'"
      ]
     },
     "execution_count": 137,
     "metadata": {},
     "output_type": "execute_result"
    }
   ],
   "source": [
    "raceDict = {}\n",
    "\n",
    "for race in dateData['race']:\n",
    "    if race not in raceDict:\n",
    "        raceDict[race] = 1\n",
    "    else:\n",
    "        raceDict[race] += 1\n",
    "        \n",
    "raceLabels = list(raceDict)\n",
    "numRace = [freq for race1, freq in raceDict.items()]\n",
    "raceData = go.Pie(labels=raceLabels, values=numRace)\n",
    "\n",
    "plot([raceData], filename='raceDistDating.html')\n",
    "        \n"
   ]
  }
 ],
 "metadata": {
  "kernelspec": {
   "display_name": "Python 3",
   "language": "python",
   "name": "python3"
  },
  "language_info": {
   "codemirror_mode": {
    "name": "ipython",
    "version": 3
   },
   "file_extension": ".py",
   "mimetype": "text/x-python",
   "name": "python",
   "nbconvert_exporter": "python",
   "pygments_lexer": "ipython3",
   "version": "3.7.0"
  }
 },
 "nbformat": 4,
 "nbformat_minor": 2
}
