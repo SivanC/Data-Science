{
 "cells": [
  {
   "cell_type": "code",
   "execution_count": 22,
   "metadata": {},
   "outputs": [
    {
     "name": "stdout",
     "output_type": "stream",
     "text": [
      "Requirement already satisfied: datascience in d:\\anaconda\\lib\\site-packages (0.10.6)\n",
      "Requirement already satisfied: pytest in d:\\anaconda\\lib\\site-packages (from datascience) (3.8.0)\n",
      "Requirement already satisfied: setuptools in d:\\anaconda\\lib\\site-packages (from datascience) (40.2.0)\n",
      "Requirement already satisfied: sphinx in d:\\anaconda\\lib\\site-packages (from datascience) (1.7.9)\n",
      "Requirement already satisfied: folium==0.2.1 in d:\\anaconda\\lib\\site-packages (from datascience) (0.2.1)\n",
      "Requirement already satisfied: coveralls==0.5 in d:\\anaconda\\lib\\site-packages (from datascience) (0.5)\n",
      "Requirement already satisfied: coverage==3.7.1 in d:\\anaconda\\lib\\site-packages (from datascience) (3.7.1)\n",
      "Requirement already satisfied: py>=1.5.0 in d:\\anaconda\\lib\\site-packages (from pytest->datascience) (1.6.0)\n",
      "Requirement already satisfied: six>=1.10.0 in d:\\anaconda\\lib\\site-packages (from pytest->datascience) (1.11.0)\n",
      "Requirement already satisfied: attrs>=17.4.0 in d:\\anaconda\\lib\\site-packages (from pytest->datascience) (18.2.0)\n",
      "Requirement already satisfied: more-itertools>=4.0.0 in d:\\anaconda\\lib\\site-packages (from pytest->datascience) (4.3.0)\n",
      "Requirement already satisfied: atomicwrites>=1.0 in d:\\anaconda\\lib\\site-packages (from pytest->datascience) (1.2.1)\n",
      "Requirement already satisfied: pluggy>=0.7 in d:\\anaconda\\lib\\site-packages (from pytest->datascience) (0.7.1)\n",
      "Requirement already satisfied: colorama in d:\\anaconda\\lib\\site-packages (from pytest->datascience) (0.3.9)\n",
      "Requirement already satisfied: Jinja2>=2.3 in d:\\anaconda\\lib\\site-packages (from sphinx->datascience) (2.10)\n",
      "Requirement already satisfied: Pygments>=2.0 in d:\\anaconda\\lib\\site-packages (from sphinx->datascience) (2.2.0)\n",
      "Requirement already satisfied: docutils>=0.11 in d:\\anaconda\\lib\\site-packages (from sphinx->datascience) (0.14)\n",
      "Requirement already satisfied: snowballstemmer>=1.1 in d:\\anaconda\\lib\\site-packages (from sphinx->datascience) (1.2.1)\n",
      "Requirement already satisfied: babel!=2.0,>=1.3 in d:\\anaconda\\lib\\site-packages (from sphinx->datascience) (2.6.0)\n",
      "Requirement already satisfied: alabaster<0.8,>=0.7 in d:\\anaconda\\lib\\site-packages (from sphinx->datascience) (0.7.11)\n",
      "Requirement already satisfied: imagesize in d:\\anaconda\\lib\\site-packages (from sphinx->datascience) (1.1.0)\n",
      "Requirement already satisfied: requests>=2.0.0 in d:\\anaconda\\lib\\site-packages (from sphinx->datascience) (2.19.1)\n",
      "Requirement already satisfied: packaging in d:\\anaconda\\lib\\site-packages (from sphinx->datascience) (17.1)\n",
      "Requirement already satisfied: sphinxcontrib-websupport in d:\\anaconda\\lib\\site-packages (from sphinx->datascience) (1.1.0)\n",
      "Requirement already satisfied: PyYAML>=3.10 in d:\\anaconda\\lib\\site-packages (from coveralls==0.5->datascience) (3.13)\n",
      "Requirement already satisfied: docopt>=0.6.1 in d:\\anaconda\\lib\\site-packages (from coveralls==0.5->datascience) (0.6.2)\n",
      "Requirement already satisfied: MarkupSafe>=0.23 in d:\\anaconda\\lib\\site-packages (from Jinja2>=2.3->sphinx->datascience) (1.0)\n",
      "Requirement already satisfied: pytz>=0a in d:\\anaconda\\lib\\site-packages (from babel!=2.0,>=1.3->sphinx->datascience) (2018.5)\n",
      "Requirement already satisfied: urllib3<1.24,>=1.21.1 in d:\\anaconda\\lib\\site-packages (from requests>=2.0.0->sphinx->datascience) (1.23)\n",
      "Requirement already satisfied: certifi>=2017.4.17 in d:\\anaconda\\lib\\site-packages (from requests>=2.0.0->sphinx->datascience) (2018.8.24)\n",
      "Requirement already satisfied: idna<2.8,>=2.5 in d:\\anaconda\\lib\\site-packages (from requests>=2.0.0->sphinx->datascience) (2.7)\n",
      "Requirement already satisfied: chardet<3.1.0,>=3.0.2 in d:\\anaconda\\lib\\site-packages (from requests>=2.0.0->sphinx->datascience) (3.0.4)\n",
      "Requirement already satisfied: pyparsing>=2.0.2 in d:\\anaconda\\lib\\site-packages (from packaging->sphinx->datascience) (2.2.0)\n"
     ]
    },
    {
     "name": "stderr",
     "output_type": "stream",
     "text": [
      "twisted 18.7.0 requires PyHamcrest>=1.9.0, which is not installed.\n",
      "You are using pip version 10.0.1, however version 18.1 is available.\n",
      "You should consider upgrading via the 'python -m pip install --upgrade pip' command.\n"
     ]
    },
    {
     "name": "stdout",
     "output_type": "stream",
     "text": [
      "Requirement already satisfied: wget in d:\\anaconda\\lib\\site-packages (3.2)\n"
     ]
    },
    {
     "name": "stderr",
     "output_type": "stream",
     "text": [
      "twisted 18.7.0 requires PyHamcrest>=1.9.0, which is not installed.\n",
      "You are using pip version 10.0.1, however version 18.1 is available.\n",
      "You should consider upgrading via the 'python -m pip install --upgrade pip' command.\n"
     ]
    },
    {
     "name": "stdout",
     "output_type": "stream",
     "text": [
      "Collecting plotly\n",
      "  Downloading https://files.pythonhosted.org/packages/d6/3b/abec247e24e2b8f29793811788fe0607062f40eefe3104823ad57f06ecf1/plotly-3.3.0-py2.py3-none-any.whl (37.3MB)\n",
      "Requirement already satisfied: six in d:\\anaconda\\lib\\site-packages (from plotly) (1.11.0)\n",
      "Requirement already satisfied: nbformat>=4.2 in d:\\anaconda\\lib\\site-packages (from plotly) (4.4.0)\n",
      "Collecting retrying>=1.3.3 (from plotly)\n",
      "  Using cached https://files.pythonhosted.org/packages/44/ef/beae4b4ef80902f22e3af073397f079c96969c69b2c7d52a57ea9ae61c9d/retrying-1.3.3.tar.gz\n",
      "Requirement already satisfied: requests in d:\\anaconda\\lib\\site-packages (from plotly) (2.19.1)\n",
      "Requirement already satisfied: pytz in d:\\anaconda\\lib\\site-packages (from plotly) (2018.5)\n",
      "Requirement already satisfied: decorator>=4.0.6 in d:\\anaconda\\lib\\site-packages (from plotly) (4.3.0)\n",
      "Requirement already satisfied: jsonschema!=2.5.0,>=2.4 in d:\\anaconda\\lib\\site-packages (from nbformat>=4.2->plotly) (2.6.0)\n",
      "Requirement already satisfied: traitlets>=4.1 in d:\\anaconda\\lib\\site-packages (from nbformat>=4.2->plotly) (4.3.2)\n",
      "Requirement already satisfied: ipython-genutils in d:\\anaconda\\lib\\site-packages (from nbformat>=4.2->plotly) (0.2.0)\n",
      "Requirement already satisfied: jupyter-core in d:\\anaconda\\lib\\site-packages (from nbformat>=4.2->plotly) (4.4.0)\n",
      "Requirement already satisfied: certifi>=2017.4.17 in d:\\anaconda\\lib\\site-packages (from requests->plotly) (2018.8.24)\n",
      "Requirement already satisfied: chardet<3.1.0,>=3.0.2 in d:\\anaconda\\lib\\site-packages (from requests->plotly) (3.0.4)\n",
      "Requirement already satisfied: urllib3<1.24,>=1.21.1 in d:\\anaconda\\lib\\site-packages (from requests->plotly) (1.23)\n",
      "Requirement already satisfied: idna<2.8,>=2.5 in d:\\anaconda\\lib\\site-packages (from requests->plotly) (2.7)\n",
      "Building wheels for collected packages: retrying\n",
      "  Running setup.py bdist_wheel for retrying: started\n",
      "  Running setup.py bdist_wheel for retrying: finished with status 'done'\n",
      "  Stored in directory: C:\\Users\\Sivan Cooperman\\AppData\\Local\\pip\\Cache\\wheels\\d7\\a9\\33\\acc7b709e2a35caa7d4cae442f6fe6fbf2c43f80823d46460c\n",
      "Successfully built retrying\n",
      "Installing collected packages: retrying, plotly\n",
      "Successfully installed plotly-3.3.0 retrying-1.3.3\n"
     ]
    },
    {
     "name": "stderr",
     "output_type": "stream",
     "text": [
      "twisted 18.7.0 requires PyHamcrest>=1.9.0, which is not installed.\n",
      "You are using pip version 10.0.1, however version 18.1 is available.\n",
      "You should consider upgrading via the 'python -m pip install --upgrade pip' command.\n"
     ]
    }
   ],
   "source": [
    "!pip install datascience\n",
    "!pip install wget\n",
    "!pip install plotly\n",
    "\n",
    "import wget\n",
    "from datascience import *\n",
    "import plotly.plotly as py\n",
    "import plotly.graph_objs as go\n",
    "import numpy as np"
   ]
  },
  {
   "cell_type": "code",
   "execution_count": 3,
   "metadata": {
    "collapsed": true
   },
   "outputs": [
    {
     "name": "stdout",
     "output_type": "stream",
     "text": [
      "\r",
      "  0% [                                                                                ]    0 / 2577\r",
      "100% [................................................................................] 2577 / 2577"
     ]
    },
    {
     "data": {
      "text/plain": [
       "'bad-drivers.csv'"
      ]
     },
     "execution_count": 3,
     "metadata": {},
     "output_type": "execute_result"
    }
   ],
   "source": [
    "wget.download('https://raw.githubusercontent.com/datasets/five-thirty-eight-datasets/master/datasets/bad-drivers/data/bad-drivers.csv')"
   ]
  },
  {
   "cell_type": "code",
   "execution_count": 25,
   "metadata": {},
   "outputs": [
    {
     "ename": "PlotlyError",
     "evalue": "The `figure_or_data` positional argument must be `dict`-like, `list`-like, or an instance of plotly.graph_objs.Figure",
     "output_type": "error",
     "traceback": [
      "\u001b[1;31m---------------------------------------------------------------------------\u001b[0m",
      "\u001b[1;31mPlotlyError\u001b[0m                               Traceback (most recent call last)",
      "\u001b[1;32m<ipython-input-25-448ca84552e8>\u001b[0m in \u001b[0;36m<module>\u001b[1;34m()\u001b[0m\n\u001b[0;32m      3\u001b[0m \u001b[0mmostDrunk\u001b[0m \u001b[1;33m=\u001b[0m \u001b[0mdriverData\u001b[0m\u001b[1;33m.\u001b[0m\u001b[0msort\u001b[0m\u001b[1;33m(\u001b[0m\u001b[1;34m'percentage of drivers involved in fatal collisions who were alcohol-impaired'\u001b[0m\u001b[1;33m,\u001b[0m \u001b[0mdescending\u001b[0m \u001b[1;33m=\u001b[0m \u001b[1;32mTrue\u001b[0m\u001b[1;33m)\u001b[0m\u001b[1;33m\u001b[0m\u001b[0m\n\u001b[0;32m      4\u001b[0m \u001b[0mdrunkData\u001b[0m \u001b[1;33m=\u001b[0m \u001b[0mmostDrunk\u001b[0m\u001b[1;33m.\u001b[0m\u001b[0mselect\u001b[0m\u001b[1;33m(\u001b[0m\u001b[1;36m3\u001b[0m\u001b[1;33m,\u001b[0m\u001b[1;36m1\u001b[0m\u001b[1;33m)\u001b[0m\u001b[1;33m\u001b[0m\u001b[0m\n\u001b[1;32m----> 5\u001b[1;33m \u001b[0mpy\u001b[0m\u001b[1;33m.\u001b[0m\u001b[0miplot\u001b[0m\u001b[1;33m(\u001b[0m\u001b[0mdrunkData\u001b[0m\u001b[1;33m,\u001b[0m \u001b[0mfilename\u001b[0m\u001b[1;33m=\u001b[0m\u001b[1;34m'basic-line'\u001b[0m\u001b[1;33m)\u001b[0m\u001b[1;33m\u001b[0m\u001b[0m\n\u001b[0m",
      "\u001b[1;32mD:\\Anaconda\\lib\\site-packages\\plotly\\plotly\\plotly.py\u001b[0m in \u001b[0;36miplot\u001b[1;34m(figure_or_data, **plot_options)\u001b[0m\n\u001b[0;32m    140\u001b[0m     \u001b[1;32mif\u001b[0m \u001b[1;34m'auto_open'\u001b[0m \u001b[1;32mnot\u001b[0m \u001b[1;32min\u001b[0m \u001b[0mplot_options\u001b[0m\u001b[1;33m:\u001b[0m\u001b[1;33m\u001b[0m\u001b[0m\n\u001b[0;32m    141\u001b[0m         \u001b[0mplot_options\u001b[0m\u001b[1;33m[\u001b[0m\u001b[1;34m'auto_open'\u001b[0m\u001b[1;33m]\u001b[0m \u001b[1;33m=\u001b[0m \u001b[1;32mFalse\u001b[0m\u001b[1;33m\u001b[0m\u001b[0m\n\u001b[1;32m--> 142\u001b[1;33m     \u001b[0murl\u001b[0m \u001b[1;33m=\u001b[0m \u001b[0mplot\u001b[0m\u001b[1;33m(\u001b[0m\u001b[0mfigure_or_data\u001b[0m\u001b[1;33m,\u001b[0m \u001b[1;33m**\u001b[0m\u001b[0mplot_options\u001b[0m\u001b[1;33m)\u001b[0m\u001b[1;33m\u001b[0m\u001b[0m\n\u001b[0m\u001b[0;32m    143\u001b[0m \u001b[1;33m\u001b[0m\u001b[0m\n\u001b[0;32m    144\u001b[0m     \u001b[1;32mif\u001b[0m \u001b[0misinstance\u001b[0m\u001b[1;33m(\u001b[0m\u001b[0mfigure_or_data\u001b[0m\u001b[1;33m,\u001b[0m \u001b[0mdict\u001b[0m\u001b[1;33m)\u001b[0m\u001b[1;33m:\u001b[0m\u001b[1;33m\u001b[0m\u001b[0m\n",
      "\u001b[1;32mD:\\Anaconda\\lib\\site-packages\\plotly\\plotly\\plotly.py\u001b[0m in \u001b[0;36mplot\u001b[1;34m(figure_or_data, validate, **plot_options)\u001b[0m\n\u001b[0;32m    205\u001b[0m \u001b[1;33m\u001b[0m\u001b[0m\n\u001b[0;32m    206\u001b[0m     \"\"\"\n\u001b[1;32m--> 207\u001b[1;33m     \u001b[0mfigure\u001b[0m \u001b[1;33m=\u001b[0m \u001b[0mtools\u001b[0m\u001b[1;33m.\u001b[0m\u001b[0mreturn_figure_from_figure_or_data\u001b[0m\u001b[1;33m(\u001b[0m\u001b[0mfigure_or_data\u001b[0m\u001b[1;33m,\u001b[0m \u001b[0mvalidate\u001b[0m\u001b[1;33m)\u001b[0m\u001b[1;33m\u001b[0m\u001b[0m\n\u001b[0m\u001b[0;32m    208\u001b[0m     \u001b[1;32mfor\u001b[0m \u001b[0mentry\u001b[0m \u001b[1;32min\u001b[0m \u001b[0mfigure\u001b[0m\u001b[1;33m[\u001b[0m\u001b[1;34m'data'\u001b[0m\u001b[1;33m]\u001b[0m\u001b[1;33m:\u001b[0m\u001b[1;33m\u001b[0m\u001b[0m\n\u001b[0;32m    209\u001b[0m         \u001b[1;32mif\u001b[0m \u001b[1;33m(\u001b[0m\u001b[1;34m'type'\u001b[0m \u001b[1;32min\u001b[0m \u001b[0mentry\u001b[0m\u001b[1;33m)\u001b[0m \u001b[1;32mand\u001b[0m \u001b[1;33m(\u001b[0m\u001b[0mentry\u001b[0m\u001b[1;33m[\u001b[0m\u001b[1;34m'type'\u001b[0m\u001b[1;33m]\u001b[0m \u001b[1;33m==\u001b[0m \u001b[1;34m'scattergl'\u001b[0m\u001b[1;33m)\u001b[0m\u001b[1;33m:\u001b[0m\u001b[1;33m\u001b[0m\u001b[0m\n",
      "\u001b[1;32mD:\\Anaconda\\lib\\site-packages\\plotly\\tools.py\u001b[0m in \u001b[0;36mreturn_figure_from_figure_or_data\u001b[1;34m(figure_or_data, validate_figure)\u001b[0m\n\u001b[0;32m   1470\u001b[0m         \u001b[0mvalidated\u001b[0m \u001b[1;33m=\u001b[0m \u001b[1;32mTrue\u001b[0m\u001b[1;33m\u001b[0m\u001b[0m\n\u001b[0;32m   1471\u001b[0m     \u001b[1;32melse\u001b[0m\u001b[1;33m:\u001b[0m\u001b[1;33m\u001b[0m\u001b[0m\n\u001b[1;32m-> 1472\u001b[1;33m         raise exceptions.PlotlyError(\"The `figure_or_data` positional \"\n\u001b[0m\u001b[0;32m   1473\u001b[0m                                      \u001b[1;34m\"argument must be \"\u001b[0m\u001b[1;33m\u001b[0m\u001b[0m\n\u001b[0;32m   1474\u001b[0m                                      \"`dict`-like, `list`-like, or an instance of plotly.graph_objs.Figure\")\n",
      "\u001b[1;31mPlotlyError\u001b[0m: The `figure_or_data` positional argument must be `dict`-like, `list`-like, or an instance of plotly.graph_objs.Figure"
     ]
    }
   ],
   "source": [
    "driverData = Table().read_table('bad-drivers.csv')\n",
    "mostAcc = driverData.sort('number of drivers involved in fatal collisions per billion miles', descending = True)\n",
    "mostDrunk = driverData.sort('percentage of drivers involved in fatal collisions who were alcohol-impaired', descending = True)\n",
    "drunkData = mostDrunk.select(3,1)\n",
    "py.iplot(drunkData, filename='basic-line')"
   ]
  }
 ],
 "metadata": {
  "kernelspec": {
   "display_name": "Python 3",
   "language": "python",
   "name": "python3"
  },
  "language_info": {
   "codemirror_mode": {
    "name": "ipython",
    "version": 3
   },
   "file_extension": ".py",
   "mimetype": "text/x-python",
   "name": "python",
   "nbconvert_exporter": "python",
   "pygments_lexer": "ipython3",
   "version": "3.7.0"
  }
 },
 "nbformat": 4,
 "nbformat_minor": 2
}
