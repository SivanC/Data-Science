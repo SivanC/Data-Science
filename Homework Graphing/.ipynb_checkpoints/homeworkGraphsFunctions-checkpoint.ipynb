{
 "cells": [
  {
   "cell_type": "code",
   "execution_count": 1,
   "metadata": {
    "collapsed": true
   },
   "outputs": [
    {
     "name": "stdout",
     "output_type": "stream",
     "text": [
      "Requirement already satisfied: datascience in d:\\anaconda\\envs\\datascience362\\lib\\site-packages (0.10.6)\n",
      "Requirement already satisfied: coveralls==0.5 in d:\\anaconda\\envs\\datascience362\\lib\\site-packages (from datascience) (0.5)\n",
      "Requirement already satisfied: setuptools in d:\\anaconda\\envs\\datascience362\\lib\\site-packages (from datascience) (40.4.3)\n",
      "Requirement already satisfied: sphinx in d:\\anaconda\\envs\\datascience362\\lib\\site-packages (from datascience) (1.8.1)\n",
      "Requirement already satisfied: folium==0.2.1 in d:\\anaconda\\envs\\datascience362\\lib\\site-packages (from datascience) (0.2.1)\n",
      "Requirement already satisfied: pytest in d:\\anaconda\\envs\\datascience362\\lib\\site-packages (from datascience) (3.8.2)\n",
      "Requirement already satisfied: coverage==3.7.1 in d:\\anaconda\\envs\\datascience362\\lib\\site-packages (from datascience) (3.7.1)\n",
      "Requirement already satisfied: requests>=1.0.0 in d:\\anaconda\\envs\\datascience362\\lib\\site-packages (from coveralls==0.5->datascience) (2.19.1)\n",
      "Requirement already satisfied: PyYAML>=3.10 in d:\\anaconda\\envs\\datascience362\\lib\\site-packages (from coveralls==0.5->datascience) (3.13)\n",
      "Requirement already satisfied: docopt>=0.6.1 in d:\\anaconda\\envs\\datascience362\\lib\\site-packages (from coveralls==0.5->datascience) (0.6.2)\n",
      "Requirement already satisfied: docutils>=0.11 in d:\\anaconda\\envs\\datascience362\\lib\\site-packages (from sphinx->datascience) (0.14)\n",
      "Requirement already satisfied: colorama>=0.3.5; sys_platform == \"win32\" in d:\\anaconda\\envs\\datascience362\\lib\\site-packages (from sphinx->datascience) (0.4.0)\n",
      "Requirement already satisfied: snowballstemmer>=1.1 in d:\\anaconda\\envs\\datascience362\\lib\\site-packages (from sphinx->datascience) (1.2.1)\n",
      "Requirement already satisfied: packaging in d:\\anaconda\\envs\\datascience362\\lib\\site-packages (from sphinx->datascience) (18.0)\n",
      "Requirement already satisfied: Pygments>=2.0 in d:\\anaconda\\envs\\datascience362\\lib\\site-packages (from sphinx->datascience) (2.2.0)\n",
      "Requirement already satisfied: imagesize in d:\\anaconda\\envs\\datascience362\\lib\\site-packages (from sphinx->datascience) (1.1.0)\n",
      "Requirement already satisfied: Jinja2>=2.3 in d:\\anaconda\\envs\\datascience362\\lib\\site-packages (from sphinx->datascience) (2.10)\n",
      "Requirement already satisfied: babel!=2.0,>=1.3 in d:\\anaconda\\envs\\datascience362\\lib\\site-packages (from sphinx->datascience) (2.6.0)\n",
      "Requirement already satisfied: alabaster<0.8,>=0.7 in d:\\anaconda\\envs\\datascience362\\lib\\site-packages (from sphinx->datascience) (0.7.12)\n",
      "Requirement already satisfied: sphinxcontrib-websupport in d:\\anaconda\\envs\\datascience362\\lib\\site-packages (from sphinx->datascience) (1.1.0)\n",
      "Requirement already satisfied: six>=1.5 in d:\\anaconda\\envs\\datascience362\\lib\\site-packages (from sphinx->datascience) (1.11.0)\n",
      "Requirement already satisfied: attrs>=17.4.0 in d:\\anaconda\\envs\\datascience362\\lib\\site-packages (from pytest->datascience) (18.2.0)\n",
      "Requirement already satisfied: pluggy>=0.7 in d:\\anaconda\\envs\\datascience362\\lib\\site-packages (from pytest->datascience) (0.7.1)\n",
      "Requirement already satisfied: py>=1.5.0 in d:\\anaconda\\envs\\datascience362\\lib\\site-packages (from pytest->datascience) (1.7.0)\n",
      "Requirement already satisfied: atomicwrites>=1.0 in d:\\anaconda\\envs\\datascience362\\lib\\site-packages (from pytest->datascience) (1.2.1)\n",
      "Requirement already satisfied: more-itertools>=4.0.0 in d:\\anaconda\\envs\\datascience362\\lib\\site-packages (from pytest->datascience) (4.3.0)\n",
      "Requirement already satisfied: certifi>=2017.4.17 in d:\\anaconda\\envs\\datascience362\\lib\\site-packages (from requests>=1.0.0->coveralls==0.5->datascience) (2018.10.15)\n",
      "Requirement already satisfied: urllib3<1.24,>=1.21.1 in d:\\anaconda\\envs\\datascience362\\lib\\site-packages (from requests>=1.0.0->coveralls==0.5->datascience) (1.23)\n",
      "Requirement already satisfied: chardet<3.1.0,>=3.0.2 in d:\\anaconda\\envs\\datascience362\\lib\\site-packages (from requests>=1.0.0->coveralls==0.5->datascience) (3.0.4)\n",
      "Requirement already satisfied: idna<2.8,>=2.5 in d:\\anaconda\\envs\\datascience362\\lib\\site-packages (from requests>=1.0.0->coveralls==0.5->datascience) (2.7)\n",
      "Requirement already satisfied: pyparsing>=2.0.2 in d:\\anaconda\\envs\\datascience362\\lib\\site-packages (from packaging->sphinx->datascience) (2.2.2)\n",
      "Requirement already satisfied: MarkupSafe>=0.23 in d:\\anaconda\\envs\\datascience362\\lib\\site-packages (from Jinja2>=2.3->sphinx->datascience) (1.0)\n",
      "Requirement already satisfied: pytz>=0a in d:\\anaconda\\envs\\datascience362\\lib\\site-packages (from babel!=2.0,>=1.3->sphinx->datascience) (2018.5)\n",
      "Requirement already satisfied: wget in d:\\anaconda\\envs\\datascience362\\lib\\site-packages (3.2)\n",
      "Requirement already satisfied: plotly in d:\\anaconda\\envs\\datascience362\\lib\\site-packages (3.3.0)\n",
      "Requirement already satisfied: decorator>=4.0.6 in d:\\anaconda\\envs\\datascience362\\lib\\site-packages (from plotly) (4.3.0)\n",
      "Requirement already satisfied: retrying>=1.3.3 in d:\\anaconda\\envs\\datascience362\\lib\\site-packages (from plotly) (1.3.3)\n",
      "Requirement already satisfied: nbformat>=4.2 in d:\\anaconda\\envs\\datascience362\\lib\\site-packages (from plotly) (4.4.0)\n",
      "Requirement already satisfied: pytz in d:\\anaconda\\envs\\datascience362\\lib\\site-packages (from plotly) (2018.5)\n",
      "Requirement already satisfied: requests in d:\\anaconda\\envs\\datascience362\\lib\\site-packages (from plotly) (2.19.1)\n",
      "Requirement already satisfied: six in d:\\anaconda\\envs\\datascience362\\lib\\site-packages (from plotly) (1.11.0)\n",
      "Requirement already satisfied: traitlets>=4.1 in d:\\anaconda\\envs\\datascience362\\lib\\site-packages (from nbformat>=4.2->plotly) (4.3.2)\n",
      "Requirement already satisfied: ipython-genutils in d:\\anaconda\\envs\\datascience362\\lib\\site-packages (from nbformat>=4.2->plotly) (0.2.0)\n",
      "Requirement already satisfied: jupyter-core in d:\\anaconda\\envs\\datascience362\\lib\\site-packages (from nbformat>=4.2->plotly) (4.4.0)\n",
      "Requirement already satisfied: jsonschema!=2.5.0,>=2.4 in d:\\anaconda\\envs\\datascience362\\lib\\site-packages (from nbformat>=4.2->plotly) (2.6.0)\n",
      "Requirement already satisfied: certifi>=2017.4.17 in d:\\anaconda\\envs\\datascience362\\lib\\site-packages (from requests->plotly) (2018.10.15)\n",
      "Requirement already satisfied: chardet<3.1.0,>=3.0.2 in d:\\anaconda\\envs\\datascience362\\lib\\site-packages (from requests->plotly) (3.0.4)\n",
      "Requirement already satisfied: urllib3<1.24,>=1.21.1 in d:\\anaconda\\envs\\datascience362\\lib\\site-packages (from requests->plotly) (1.23)\n",
      "Requirement already satisfied: idna<2.8,>=2.5 in d:\\anaconda\\envs\\datascience362\\lib\\site-packages (from requests->plotly) (2.7)\n"
     ]
    }
   ],
   "source": [
    "!pip install datascience\n",
    "!pip install wget\n",
    "!pip install plotly"
   ]
  },
  {
   "cell_type": "code",
   "execution_count": 2,
   "metadata": {},
   "outputs": [],
   "source": [
    "from datascience import *\n",
    "from plotly.offline import plot\n",
    "import numpy as np\n",
    "import wget\n",
    "import plotly.plotly as py\n",
    "import plotly.graph_objs as go"
   ]
  },
  {
   "cell_type": "code",
   "execution_count": 4,
   "metadata": {
    "collapsed": true
   },
   "outputs": [
    {
     "ename": "ValueError",
     "evalue": "unknown url type: 'some%20csv%20url%20here'",
     "output_type": "error",
     "traceback": [
      "\u001b[1;31m---------------------------------------------------------------------------\u001b[0m",
      "\u001b[1;31mValueError\u001b[0m                                Traceback (most recent call last)",
      "\u001b[1;32m<ipython-input-4-84ad9b93c016>\u001b[0m in \u001b[0;36m<module>\u001b[1;34m()\u001b[0m\n\u001b[0;32m      1\u001b[0m \u001b[0mcsvUrl\u001b[0m \u001b[1;33m=\u001b[0m \u001b[1;34m'some csv url here'\u001b[0m\u001b[1;33m\u001b[0m\u001b[0m\n\u001b[1;32m----> 2\u001b[1;33m \u001b[0mhomeworkDataCsv\u001b[0m \u001b[1;33m=\u001b[0m \u001b[0mwget\u001b[0m\u001b[1;33m.\u001b[0m\u001b[0mdownload\u001b[0m\u001b[1;33m(\u001b[0m\u001b[0mcsvUrl\u001b[0m\u001b[1;33m)\u001b[0m\u001b[1;33m\u001b[0m\u001b[0m\n\u001b[0m\u001b[0;32m      3\u001b[0m \u001b[0mhomeworkData\u001b[0m \u001b[1;33m=\u001b[0m \u001b[0mTable\u001b[0m\u001b[1;33m(\u001b[0m\u001b[1;33m)\u001b[0m\u001b[1;33m.\u001b[0m\u001b[0mread_table\u001b[0m\u001b[1;33m(\u001b[0m\u001b[0mhomeworkDataCsv\u001b[0m\u001b[1;33m)\u001b[0m\u001b[1;33m.\u001b[0m\u001b[0mrelabeled\u001b[0m\u001b[1;33m(\u001b[0m\u001b[1;34m'HW Time (min)'\u001b[0m\u001b[1;33m,\u001b[0m \u001b[1;34m'Homework'\u001b[0m\u001b[1;33m)\u001b[0m\u001b[1;33m.\u001b[0m\u001b[0mrelabeled\u001b[0m\u001b[1;33m(\u001b[0m\u001b[1;34m'Other Work Time (min)'\u001b[0m\u001b[1;33m,\u001b[0m \u001b[1;34m'Other'\u001b[0m\u001b[1;33m)\u001b[0m\u001b[1;33m\u001b[0m\u001b[0m\n",
      "\u001b[1;32mD:\\Anaconda\\lib\\site-packages\\wget.py\u001b[0m in \u001b[0;36mdownload\u001b[1;34m(url, out, bar)\u001b[0m\n\u001b[0;32m    524\u001b[0m     \u001b[1;32melse\u001b[0m\u001b[1;33m:\u001b[0m\u001b[1;33m\u001b[0m\u001b[0m\n\u001b[0;32m    525\u001b[0m         \u001b[0mbinurl\u001b[0m \u001b[1;33m=\u001b[0m \u001b[0murl\u001b[0m\u001b[1;33m\u001b[0m\u001b[0m\n\u001b[1;32m--> 526\u001b[1;33m     \u001b[1;33m(\u001b[0m\u001b[0mtmpfile\u001b[0m\u001b[1;33m,\u001b[0m \u001b[0mheaders\u001b[0m\u001b[1;33m)\u001b[0m \u001b[1;33m=\u001b[0m \u001b[0mulib\u001b[0m\u001b[1;33m.\u001b[0m\u001b[0murlretrieve\u001b[0m\u001b[1;33m(\u001b[0m\u001b[0mbinurl\u001b[0m\u001b[1;33m,\u001b[0m \u001b[0mtmpfile\u001b[0m\u001b[1;33m,\u001b[0m \u001b[0mcallback\u001b[0m\u001b[1;33m)\u001b[0m\u001b[1;33m\u001b[0m\u001b[0m\n\u001b[0m\u001b[0;32m    527\u001b[0m     \u001b[0mfilename\u001b[0m \u001b[1;33m=\u001b[0m \u001b[0mdetect_filename\u001b[0m\u001b[1;33m(\u001b[0m\u001b[0murl\u001b[0m\u001b[1;33m,\u001b[0m \u001b[0mout\u001b[0m\u001b[1;33m,\u001b[0m \u001b[0mheaders\u001b[0m\u001b[1;33m)\u001b[0m\u001b[1;33m\u001b[0m\u001b[0m\n\u001b[0;32m    528\u001b[0m     \u001b[1;32mif\u001b[0m \u001b[0moutdir\u001b[0m\u001b[1;33m:\u001b[0m\u001b[1;33m\u001b[0m\u001b[0m\n",
      "\u001b[1;32mD:\\Anaconda\\lib\\urllib\\request.py\u001b[0m in \u001b[0;36murlretrieve\u001b[1;34m(url, filename, reporthook, data)\u001b[0m\n\u001b[0;32m    245\u001b[0m     \u001b[0murl_type\u001b[0m\u001b[1;33m,\u001b[0m \u001b[0mpath\u001b[0m \u001b[1;33m=\u001b[0m \u001b[0msplittype\u001b[0m\u001b[1;33m(\u001b[0m\u001b[0murl\u001b[0m\u001b[1;33m)\u001b[0m\u001b[1;33m\u001b[0m\u001b[0m\n\u001b[0;32m    246\u001b[0m \u001b[1;33m\u001b[0m\u001b[0m\n\u001b[1;32m--> 247\u001b[1;33m     \u001b[1;32mwith\u001b[0m \u001b[0mcontextlib\u001b[0m\u001b[1;33m.\u001b[0m\u001b[0mclosing\u001b[0m\u001b[1;33m(\u001b[0m\u001b[0murlopen\u001b[0m\u001b[1;33m(\u001b[0m\u001b[0murl\u001b[0m\u001b[1;33m,\u001b[0m \u001b[0mdata\u001b[0m\u001b[1;33m)\u001b[0m\u001b[1;33m)\u001b[0m \u001b[1;32mas\u001b[0m \u001b[0mfp\u001b[0m\u001b[1;33m:\u001b[0m\u001b[1;33m\u001b[0m\u001b[0m\n\u001b[0m\u001b[0;32m    248\u001b[0m         \u001b[0mheaders\u001b[0m \u001b[1;33m=\u001b[0m \u001b[0mfp\u001b[0m\u001b[1;33m.\u001b[0m\u001b[0minfo\u001b[0m\u001b[1;33m(\u001b[0m\u001b[1;33m)\u001b[0m\u001b[1;33m\u001b[0m\u001b[0m\n\u001b[0;32m    249\u001b[0m \u001b[1;33m\u001b[0m\u001b[0m\n",
      "\u001b[1;32mD:\\Anaconda\\lib\\urllib\\request.py\u001b[0m in \u001b[0;36murlopen\u001b[1;34m(url, data, timeout, cafile, capath, cadefault, context)\u001b[0m\n\u001b[0;32m    220\u001b[0m     \u001b[1;32melse\u001b[0m\u001b[1;33m:\u001b[0m\u001b[1;33m\u001b[0m\u001b[0m\n\u001b[0;32m    221\u001b[0m         \u001b[0mopener\u001b[0m \u001b[1;33m=\u001b[0m \u001b[0m_opener\u001b[0m\u001b[1;33m\u001b[0m\u001b[0m\n\u001b[1;32m--> 222\u001b[1;33m     \u001b[1;32mreturn\u001b[0m \u001b[0mopener\u001b[0m\u001b[1;33m.\u001b[0m\u001b[0mopen\u001b[0m\u001b[1;33m(\u001b[0m\u001b[0murl\u001b[0m\u001b[1;33m,\u001b[0m \u001b[0mdata\u001b[0m\u001b[1;33m,\u001b[0m \u001b[0mtimeout\u001b[0m\u001b[1;33m)\u001b[0m\u001b[1;33m\u001b[0m\u001b[0m\n\u001b[0m\u001b[0;32m    223\u001b[0m \u001b[1;33m\u001b[0m\u001b[0m\n\u001b[0;32m    224\u001b[0m \u001b[1;32mdef\u001b[0m \u001b[0minstall_opener\u001b[0m\u001b[1;33m(\u001b[0m\u001b[0mopener\u001b[0m\u001b[1;33m)\u001b[0m\u001b[1;33m:\u001b[0m\u001b[1;33m\u001b[0m\u001b[0m\n",
      "\u001b[1;32mD:\\Anaconda\\lib\\urllib\\request.py\u001b[0m in \u001b[0;36mopen\u001b[1;34m(self, fullurl, data, timeout)\u001b[0m\n\u001b[0;32m    508\u001b[0m         \u001b[1;31m# accept a URL or a Request object\u001b[0m\u001b[1;33m\u001b[0m\u001b[1;33m\u001b[0m\u001b[0m\n\u001b[0;32m    509\u001b[0m         \u001b[1;32mif\u001b[0m \u001b[0misinstance\u001b[0m\u001b[1;33m(\u001b[0m\u001b[0mfullurl\u001b[0m\u001b[1;33m,\u001b[0m \u001b[0mstr\u001b[0m\u001b[1;33m)\u001b[0m\u001b[1;33m:\u001b[0m\u001b[1;33m\u001b[0m\u001b[0m\n\u001b[1;32m--> 510\u001b[1;33m             \u001b[0mreq\u001b[0m \u001b[1;33m=\u001b[0m \u001b[0mRequest\u001b[0m\u001b[1;33m(\u001b[0m\u001b[0mfullurl\u001b[0m\u001b[1;33m,\u001b[0m \u001b[0mdata\u001b[0m\u001b[1;33m)\u001b[0m\u001b[1;33m\u001b[0m\u001b[0m\n\u001b[0m\u001b[0;32m    511\u001b[0m         \u001b[1;32melse\u001b[0m\u001b[1;33m:\u001b[0m\u001b[1;33m\u001b[0m\u001b[0m\n\u001b[0;32m    512\u001b[0m             \u001b[0mreq\u001b[0m \u001b[1;33m=\u001b[0m \u001b[0mfullurl\u001b[0m\u001b[1;33m\u001b[0m\u001b[0m\n",
      "\u001b[1;32mD:\\Anaconda\\lib\\urllib\\request.py\u001b[0m in \u001b[0;36m__init__\u001b[1;34m(self, url, data, headers, origin_req_host, unverifiable, method)\u001b[0m\n\u001b[0;32m    326\u001b[0m                  \u001b[0morigin_req_host\u001b[0m\u001b[1;33m=\u001b[0m\u001b[1;32mNone\u001b[0m\u001b[1;33m,\u001b[0m \u001b[0munverifiable\u001b[0m\u001b[1;33m=\u001b[0m\u001b[1;32mFalse\u001b[0m\u001b[1;33m,\u001b[0m\u001b[1;33m\u001b[0m\u001b[0m\n\u001b[0;32m    327\u001b[0m                  method=None):\n\u001b[1;32m--> 328\u001b[1;33m         \u001b[0mself\u001b[0m\u001b[1;33m.\u001b[0m\u001b[0mfull_url\u001b[0m \u001b[1;33m=\u001b[0m \u001b[0murl\u001b[0m\u001b[1;33m\u001b[0m\u001b[0m\n\u001b[0m\u001b[0;32m    329\u001b[0m         \u001b[0mself\u001b[0m\u001b[1;33m.\u001b[0m\u001b[0mheaders\u001b[0m \u001b[1;33m=\u001b[0m \u001b[1;33m{\u001b[0m\u001b[1;33m}\u001b[0m\u001b[1;33m\u001b[0m\u001b[0m\n\u001b[0;32m    330\u001b[0m         \u001b[0mself\u001b[0m\u001b[1;33m.\u001b[0m\u001b[0munredirected_hdrs\u001b[0m \u001b[1;33m=\u001b[0m \u001b[1;33m{\u001b[0m\u001b[1;33m}\u001b[0m\u001b[1;33m\u001b[0m\u001b[0m\n",
      "\u001b[1;32mD:\\Anaconda\\lib\\urllib\\request.py\u001b[0m in \u001b[0;36mfull_url\u001b[1;34m(self, url)\u001b[0m\n\u001b[0;32m    352\u001b[0m         \u001b[0mself\u001b[0m\u001b[1;33m.\u001b[0m\u001b[0m_full_url\u001b[0m \u001b[1;33m=\u001b[0m \u001b[0munwrap\u001b[0m\u001b[1;33m(\u001b[0m\u001b[0murl\u001b[0m\u001b[1;33m)\u001b[0m\u001b[1;33m\u001b[0m\u001b[0m\n\u001b[0;32m    353\u001b[0m         \u001b[0mself\u001b[0m\u001b[1;33m.\u001b[0m\u001b[0m_full_url\u001b[0m\u001b[1;33m,\u001b[0m \u001b[0mself\u001b[0m\u001b[1;33m.\u001b[0m\u001b[0mfragment\u001b[0m \u001b[1;33m=\u001b[0m \u001b[0msplittag\u001b[0m\u001b[1;33m(\u001b[0m\u001b[0mself\u001b[0m\u001b[1;33m.\u001b[0m\u001b[0m_full_url\u001b[0m\u001b[1;33m)\u001b[0m\u001b[1;33m\u001b[0m\u001b[0m\n\u001b[1;32m--> 354\u001b[1;33m         \u001b[0mself\u001b[0m\u001b[1;33m.\u001b[0m\u001b[0m_parse\u001b[0m\u001b[1;33m(\u001b[0m\u001b[1;33m)\u001b[0m\u001b[1;33m\u001b[0m\u001b[0m\n\u001b[0m\u001b[0;32m    355\u001b[0m \u001b[1;33m\u001b[0m\u001b[0m\n\u001b[0;32m    356\u001b[0m     \u001b[1;33m@\u001b[0m\u001b[0mfull_url\u001b[0m\u001b[1;33m.\u001b[0m\u001b[0mdeleter\u001b[0m\u001b[1;33m\u001b[0m\u001b[0m\n",
      "\u001b[1;32mD:\\Anaconda\\lib\\urllib\\request.py\u001b[0m in \u001b[0;36m_parse\u001b[1;34m(self)\u001b[0m\n\u001b[0;32m    381\u001b[0m         \u001b[0mself\u001b[0m\u001b[1;33m.\u001b[0m\u001b[0mtype\u001b[0m\u001b[1;33m,\u001b[0m \u001b[0mrest\u001b[0m \u001b[1;33m=\u001b[0m \u001b[0msplittype\u001b[0m\u001b[1;33m(\u001b[0m\u001b[0mself\u001b[0m\u001b[1;33m.\u001b[0m\u001b[0m_full_url\u001b[0m\u001b[1;33m)\u001b[0m\u001b[1;33m\u001b[0m\u001b[0m\n\u001b[0;32m    382\u001b[0m         \u001b[1;32mif\u001b[0m \u001b[0mself\u001b[0m\u001b[1;33m.\u001b[0m\u001b[0mtype\u001b[0m \u001b[1;32mis\u001b[0m \u001b[1;32mNone\u001b[0m\u001b[1;33m:\u001b[0m\u001b[1;33m\u001b[0m\u001b[0m\n\u001b[1;32m--> 383\u001b[1;33m             \u001b[1;32mraise\u001b[0m \u001b[0mValueError\u001b[0m\u001b[1;33m(\u001b[0m\u001b[1;34m\"unknown url type: %r\"\u001b[0m \u001b[1;33m%\u001b[0m \u001b[0mself\u001b[0m\u001b[1;33m.\u001b[0m\u001b[0mfull_url\u001b[0m\u001b[1;33m)\u001b[0m\u001b[1;33m\u001b[0m\u001b[0m\n\u001b[0m\u001b[0;32m    384\u001b[0m         \u001b[0mself\u001b[0m\u001b[1;33m.\u001b[0m\u001b[0mhost\u001b[0m\u001b[1;33m,\u001b[0m \u001b[0mself\u001b[0m\u001b[1;33m.\u001b[0m\u001b[0mselector\u001b[0m \u001b[1;33m=\u001b[0m \u001b[0msplithost\u001b[0m\u001b[1;33m(\u001b[0m\u001b[0mrest\u001b[0m\u001b[1;33m)\u001b[0m\u001b[1;33m\u001b[0m\u001b[0m\n\u001b[0;32m    385\u001b[0m         \u001b[1;32mif\u001b[0m \u001b[0mself\u001b[0m\u001b[1;33m.\u001b[0m\u001b[0mhost\u001b[0m\u001b[1;33m:\u001b[0m\u001b[1;33m\u001b[0m\u001b[0m\n",
      "\u001b[1;31mValueError\u001b[0m: unknown url type: 'some%20csv%20url%20here'"
     ]
    }
   ],
   "source": [
    "csvUrl = 'some csv url here'\n",
    "homeworkDataCsv = wget.download(csvUrl)\n",
    "homeworkData = Table().read_table(homeworkDataCsv).relabeled('HW Time (min)', 'Homework').relabeled('Other Work Time (min)', 'Other')"
   ]
  },
  {
   "cell_type": "code",
   "execution_count": 10,
   "metadata": {},
   "outputs": [],
   "source": [
    "def generatePoints(dates):\n",
    "    \n",
    "    hwMinutes = []\n",
    "    otherMinutes = []\n",
    "    totalMinutes = []\n",
    "    \n",
    "    for date in dates:\n",
    "        hwMinutesList.append(homeworkData.where('Date', date)['Homework'])\n",
    "        otherMinutesList.append(homeworkData.where('Date', date)['Other'])\n",
    "    for index in range(len(dates) - 1):\n",
    "        totalMinutes.append(hwMinutes[index] + otherMinutes[index])\n",
    "        \n",
    "    return [dates, hwMinutes, otherMinutes, totalMinutes]"
   ]
  },
  {
   "cell_type": "code",
   "execution_count": 11,
   "metadata": {},
   "outputs": [],
   "source": [
    "def graphForDates(dates, style='scatter'):\n",
    "    \n",
    "    hwMinutes, otherMinutes, totalMinutes = generatePoints(dates)[1:]\n",
    "    \n",
    "    if style=='scatter':\n",
    "        data = [go.Scatter(x=dates, y=hwMinutesList), go.Scatter(x=dates, y=otherMinutesList)]\n",
    "    \n",
    "    plot(data, filename='graphForDates' + dates[0] + '--' + dates[-1])"
   ]
  }
 ],
 "metadata": {
  "kernelspec": {
   "display_name": "Python 3",
   "language": "python",
   "name": "python3"
  },
  "language_info": {
   "codemirror_mode": {
    "name": "ipython",
    "version": 3
   },
   "file_extension": ".py",
   "mimetype": "text/x-python",
   "name": "python",
   "nbconvert_exporter": "python",
   "pygments_lexer": "ipython3",
   "version": "3.7.0"
  }
 },
 "nbformat": 4,
 "nbformat_minor": 2
}
