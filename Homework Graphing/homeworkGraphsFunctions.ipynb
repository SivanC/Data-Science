{
 "cells": [
  {
   "cell_type": "code",
   "execution_count": 1,
   "metadata": {},
   "outputs": [
    {
     "name": "stdout",
     "output_type": "stream",
     "text": [
      "Requirement already satisfied: datascience in d:\\anaconda\\envs\\datascience362\\lib\\site-packages (0.10.6)\n",
      "Requirement already satisfied: folium==0.2.1 in d:\\anaconda\\envs\\datascience362\\lib\\site-packages (from datascience) (0.2.1)\n",
      "Requirement already satisfied: coveralls==0.5 in d:\\anaconda\\envs\\datascience362\\lib\\site-packages (from datascience) (0.5)\n",
      "Requirement already satisfied: pytest in d:\\anaconda\\envs\\datascience362\\lib\\site-packages (from datascience) (3.8.2)\n",
      "Requirement already satisfied: sphinx in d:\\anaconda\\envs\\datascience362\\lib\\site-packages (from datascience) (1.8.1)\n",
      "Requirement already satisfied: setuptools in d:\\anaconda\\envs\\datascience362\\lib\\site-packages (from datascience) (40.4.3)\n",
      "Requirement already satisfied: coverage==3.7.1 in d:\\anaconda\\envs\\datascience362\\lib\\site-packages (from datascience) (3.7.1)\n",
      "Requirement already satisfied: Jinja2 in d:\\anaconda\\envs\\datascience362\\lib\\site-packages (from folium==0.2.1->datascience) (2.10)\n",
      "Requirement already satisfied: PyYAML>=3.10 in d:\\anaconda\\envs\\datascience362\\lib\\site-packages (from coveralls==0.5->datascience) (3.13)\n",
      "Requirement already satisfied: requests>=1.0.0 in d:\\anaconda\\envs\\datascience362\\lib\\site-packages (from coveralls==0.5->datascience) (2.19.1)\n",
      "Requirement already satisfied: docopt>=0.6.1 in d:\\anaconda\\envs\\datascience362\\lib\\site-packages (from coveralls==0.5->datascience) (0.6.2)\n",
      "Requirement already satisfied: pluggy>=0.7 in d:\\anaconda\\envs\\datascience362\\lib\\site-packages (from pytest->datascience) (0.7.1)\n",
      "Requirement already satisfied: attrs>=17.4.0 in d:\\anaconda\\envs\\datascience362\\lib\\site-packages (from pytest->datascience) (18.2.0)\n",
      "Requirement already satisfied: more-itertools>=4.0.0 in d:\\anaconda\\envs\\datascience362\\lib\\site-packages (from pytest->datascience) (4.3.0)\n",
      "Requirement already satisfied: six>=1.10.0 in d:\\anaconda\\envs\\datascience362\\lib\\site-packages (from pytest->datascience) (1.11.0)\n",
      "Requirement already satisfied: atomicwrites>=1.0 in d:\\anaconda\\envs\\datascience362\\lib\\site-packages (from pytest->datascience) (1.2.1)\n",
      "Requirement already satisfied: colorama; sys_platform == \"win32\" in d:\\anaconda\\envs\\datascience362\\lib\\site-packages (from pytest->datascience) (0.4.0)\n",
      "Requirement already satisfied: py>=1.5.0 in d:\\anaconda\\envs\\datascience362\\lib\\site-packages (from pytest->datascience) (1.7.0)\n",
      "Requirement already satisfied: imagesize in d:\\anaconda\\envs\\datascience362\\lib\\site-packages (from sphinx->datascience) (1.1.0)\n",
      "Requirement already satisfied: snowballstemmer>=1.1 in d:\\anaconda\\envs\\datascience362\\lib\\site-packages (from sphinx->datascience) (1.2.1)\n",
      "Requirement already satisfied: Pygments>=2.0 in d:\\anaconda\\envs\\datascience362\\lib\\site-packages (from sphinx->datascience) (2.2.0)\n",
      "Requirement already satisfied: babel!=2.0,>=1.3 in d:\\anaconda\\envs\\datascience362\\lib\\site-packages (from sphinx->datascience) (2.6.0)\n",
      "Requirement already satisfied: alabaster<0.8,>=0.7 in d:\\anaconda\\envs\\datascience362\\lib\\site-packages (from sphinx->datascience) (0.7.12)\n",
      "Requirement already satisfied: packaging in d:\\anaconda\\envs\\datascience362\\lib\\site-packages (from sphinx->datascience) (18.0)\n",
      "Requirement already satisfied: sphinxcontrib-websupport in d:\\anaconda\\envs\\datascience362\\lib\\site-packages (from sphinx->datascience) (1.1.0)\n",
      "Requirement already satisfied: docutils>=0.11 in d:\\anaconda\\envs\\datascience362\\lib\\site-packages (from sphinx->datascience) (0.14)\n",
      "Requirement already satisfied: MarkupSafe>=0.23 in d:\\anaconda\\envs\\datascience362\\lib\\site-packages (from Jinja2->folium==0.2.1->datascience) (1.0)\n",
      "Requirement already satisfied: idna<2.8,>=2.5 in d:\\anaconda\\envs\\datascience362\\lib\\site-packages (from requests>=1.0.0->coveralls==0.5->datascience) (2.7)\n",
      "Requirement already satisfied: certifi>=2017.4.17 in d:\\anaconda\\envs\\datascience362\\lib\\site-packages (from requests>=1.0.0->coveralls==0.5->datascience) (2018.10.15)\n",
      "Requirement already satisfied: chardet<3.1.0,>=3.0.2 in d:\\anaconda\\envs\\datascience362\\lib\\site-packages (from requests>=1.0.0->coveralls==0.5->datascience) (3.0.4)\n",
      "Requirement already satisfied: urllib3<1.24,>=1.21.1 in d:\\anaconda\\envs\\datascience362\\lib\\site-packages (from requests>=1.0.0->coveralls==0.5->datascience) (1.23)\n",
      "Requirement already satisfied: pytz>=0a in d:\\anaconda\\envs\\datascience362\\lib\\site-packages (from babel!=2.0,>=1.3->sphinx->datascience) (2018.5)\n",
      "Requirement already satisfied: pyparsing>=2.0.2 in d:\\anaconda\\envs\\datascience362\\lib\\site-packages (from packaging->sphinx->datascience) (2.2.2)\n",
      "Requirement already satisfied: wget in d:\\anaconda\\envs\\datascience362\\lib\\site-packages (3.2)\n",
      "Requirement already satisfied: plotly in d:\\anaconda\\envs\\datascience362\\lib\\site-packages (3.3.0)\n",
      "Requirement already satisfied: pytz in d:\\anaconda\\envs\\datascience362\\lib\\site-packages (from plotly) (2018.5)\n",
      "Requirement already satisfied: retrying>=1.3.3 in d:\\anaconda\\envs\\datascience362\\lib\\site-packages (from plotly) (1.3.3)\n",
      "Requirement already satisfied: nbformat>=4.2 in d:\\anaconda\\envs\\datascience362\\lib\\site-packages (from plotly) (4.4.0)\n",
      "Requirement already satisfied: requests in d:\\anaconda\\envs\\datascience362\\lib\\site-packages (from plotly) (2.19.1)\n",
      "Requirement already satisfied: six in d:\\anaconda\\envs\\datascience362\\lib\\site-packages (from plotly) (1.11.0)\n",
      "Requirement already satisfied: decorator>=4.0.6 in d:\\anaconda\\envs\\datascience362\\lib\\site-packages (from plotly) (4.3.0)\n",
      "Requirement already satisfied: ipython-genutils in d:\\anaconda\\envs\\datascience362\\lib\\site-packages (from nbformat>=4.2->plotly) (0.2.0)\n",
      "Requirement already satisfied: jsonschema!=2.5.0,>=2.4 in d:\\anaconda\\envs\\datascience362\\lib\\site-packages (from nbformat>=4.2->plotly) (2.6.0)\n",
      "Requirement already satisfied: jupyter-core in d:\\anaconda\\envs\\datascience362\\lib\\site-packages (from nbformat>=4.2->plotly) (4.4.0)\n",
      "Requirement already satisfied: traitlets>=4.1 in d:\\anaconda\\envs\\datascience362\\lib\\site-packages (from nbformat>=4.2->plotly) (4.3.2)\n",
      "Requirement already satisfied: chardet<3.1.0,>=3.0.2 in d:\\anaconda\\envs\\datascience362\\lib\\site-packages (from requests->plotly) (3.0.4)\n",
      "Requirement already satisfied: idna<2.8,>=2.5 in d:\\anaconda\\envs\\datascience362\\lib\\site-packages (from requests->plotly) (2.7)\n",
      "Requirement already satisfied: urllib3<1.24,>=1.21.1 in d:\\anaconda\\envs\\datascience362\\lib\\site-packages (from requests->plotly) (1.23)\n",
      "Requirement already satisfied: certifi>=2017.4.17 in d:\\anaconda\\envs\\datascience362\\lib\\site-packages (from requests->plotly) (2018.10.15)\n"
     ]
    }
   ],
   "source": [
    "!pip install datascience\n",
    "!pip install wget\n",
    "!pip install plotly"
   ]
  },
  {
   "cell_type": "code",
   "execution_count": 10,
   "metadata": {},
   "outputs": [],
   "source": [
    "from datascience import *\n",
    "from plotly.offline import plot\n",
    "import numpy as np\n",
    "import wget\n",
    "import plotly.plotly as py\n",
    "import plotly.graph_objs as go"
   ]
  },
  {
   "cell_type": "code",
   "execution_count": 14,
   "metadata": {},
   "outputs": [],
   "source": [
    "csvUrl = 'https://raw.githubusercontent.com/SivanC/Data-Science/master/Homework%20Graphing/HW%20Data%20-%20Sheet3.csv'\n",
    "homeworkDataCsv = wget.download(csvUrl)"
   ]
  },
  {
   "cell_type": "code",
   "execution_count": 11,
   "metadata": {},
   "outputs": [],
   "source": [
    "#With my local version of the data\n",
    "homeworkData = Table().read_table(r'C:\\Users\\Sivan Cooperman\\Desktop\\python\\Data-Science\\Homework Graphing\\exampleData.csv').relabeled('HW Time (min)', 'Homework').relabeled('Other Work Time (min)', 'Other').relabeled('Total (min)', 'Total')"
   ]
  },
  {
   "cell_type": "code",
   "execution_count": 12,
   "metadata": {},
   "outputs": [],
   "source": [
    "def generatePoints(dates):\n",
    "    \"\"\"Takes an array of dates and retrieves the time spent doing homework, other work, and total work on those days.\n",
    "    Ex:\n",
    "    >>> generatePoints(['1/1', '2/5'])\n",
    "        [['1/1', '2/5'], [31, 26], [4, 180], [37, 206]]\n",
    "    \"\"\"\n",
    "    hwMinutes = []\n",
    "    otherMinutes = []\n",
    "    totalMinutes = []\n",
    "    \n",
    "    for date in dates:\n",
    "        hwMinutes.append(homeworkData.where('Date', date)['Homework'][0])\n",
    "        otherMinutes.append(homeworkData.where('Date', date)['Other'][0])\n",
    "        totalMinutes.append(homeworkData.where('Date', date)['Total'][0])\n",
    "        \n",
    "    return [dates, hwMinutes, otherMinutes, totalMinutes]"
   ]
  },
  {
   "cell_type": "code",
   "execution_count": 15,
   "metadata": {},
   "outputs": [],
   "source": [
    "def graphForDates(dates, dataType='subtotals', notes=False):\n",
    "    \"\"\"Takes an array of dates and plots their associated minutes of work\n",
    "        Arguments:\n",
    "            dataType: all, total, subtotals, homework, or other. Determines the type of data displayed on the graph.\n",
    "            notes: whether or not to show annotations from the notes column of homeworkData\n",
    "    \"\"\"\n",
    "    \n",
    "    hwMinutes, otherMinutes, totalMinutes = generatePoints(dates)[1:]\n",
    "    \n",
    "    annotations = []\n",
    "    if notes:\n",
    "        for note in homeworkData['Notes']:\n",
    "            if note != 'nan':\n",
    "                newDict = dict(x=homeworkData.where('Notes', note)['Date'][0],\n",
    "                               y=homeworkData.where('Notes', note)['Total'][0],\n",
    "                               xref='x',\n",
    "                               yref='y',\n",
    "                               align='left',\n",
    "                               width=120,\n",
    "                               font=dict(color='black'),\n",
    "                               visible=False,\n",
    "                               clicktoshow='onoff',\n",
    "                               xclick=dates[1],\n",
    "                               yclick=totalMinutes[1]*2 + 50,\n",
    "                               text=note)\n",
    "                annotations.append(newDict)\n",
    "    \n",
    "    hwBar = go.Bar(x=dates, y=hwMinutes, text=hwMinutes, hoverinfo='text', name = 'Homework')\n",
    "    otherBar = go.Bar(x=dates, y=otherMinutes, text=otherMinutes, hoverinfo='text', name = 'Other')\n",
    "    totalBar = go.Bar(x=dates, y=totalMinutes, text=totalMinutes, hoverinfo='text', name = 'Total')\n",
    "    annotationPoint = go.Scatter(x=[dates[1]], y=[totalMinutes[1]*2 + 50],\n",
    "                                 showlegend=False, name='Show Notes', hoverinfo='name', mode='markers')\n",
    "    print(annotationPoint, otherBar)\n",
    "    if dataType == 'all':\n",
    "        title = 'Minutes of Work'\n",
    "        data = [annotationPoint, totalBar, otherBar, hwBar]\n",
    "    elif dataType == 'total':\n",
    "        title = 'Total Minutes of Work'\n",
    "        data = [totalBar]\n",
    "    elif dataType == 'subtotals':\n",
    "        title = 'Minutes of Homework and Other Work'\n",
    "        data = [otherBar, hwBar, annotationPoint]\n",
    "    elif dataType == 'homework':\n",
    "        title = 'Minutes of Homework'\n",
    "        data = [hwBar]\n",
    "    elif dataType == 'other':\n",
    "        title = 'Minutes of Other Work'\n",
    "        data = [otherBar]\n",
    "    else:\n",
    "        raise ValueError('dataType must be one of the following: all, total, subtotals, homework, other')\n",
    "        \n",
    "    layout = dict(title=title,\n",
    "                  hovermode='closest',\n",
    "                  barmode='relative',\n",
    "                  xaxis=dict(\n",
    "                      title='Date'),\n",
    "                  yaxis=dict(\n",
    "                      title='Minutes'),\n",
    "                  annotations=annotations\n",
    "    )\n",
    "    \n",
    "    figure = dict(data=data, layout=layout)\n",
    "    plot(figure, filename='graphForDates' + dates[0].replace('/', '') + 'to' + dates[-1].replace('/', '') + '.html')"
   ]
  },
  {
   "cell_type": "code",
   "execution_count": 16,
   "metadata": {},
   "outputs": [
    {
     "name": "stdout",
     "output_type": "stream",
     "text": [
      "Scatter({\n",
      "    'hoverinfo': 'name', 'mode': 'markers', 'name': 'Show Notes', 'showlegend': False, 'x': ['9/27'], 'y': [284.0]\n",
      "}) Bar({\n",
      "    'hoverinfo': 'text',\n",
      "    'name': 'Other',\n",
      "    'text': [42.0, 27.0, 10.0, 0.0, 68.0, 9.0, 75.0, 31.0, 0.0, 0.0, 2.0, 32.0,\n",
      "             0.0, 0.0, 0.0, 0.0, 0.0, 40.0, 0.0, 173.0, 0.0, 52.0, 50.0, 5.0,\n",
      "             148.0, 3.0, 0.0, 21.0, 37.0, 3.0, 0.0, 72.0, 116.0, 28.0, 52.0, 110.0,\n",
      "             0.0, 0.0, 435.0],\n",
      "    'x': array(['9/26', '9/27', '9/28', '9/29', '9/30', '10/1', '10/2', '10/3', '10/4',\n",
      "                '10/5', '10/6', '10/7', '10/8', '10/9', '10/10', '10/11', '10/12',\n",
      "                '10/13', '10/14', '10/15', '10/16', '10/17', '10/18', '10/19', '10/20',\n",
      "                '10/21', '10/22', '10/23', '10/24', '10/25', '10/26', '10/27', '10/28',\n",
      "                '10/29', '10/30', '10/31', '11/1', '11/2', '11/3'], dtype=object),\n",
      "    'y': [42.0, 27.0, 10.0, 0.0, 68.0, 9.0, 75.0, 31.0, 0.0, 0.0, 2.0, 32.0, 0.0,\n",
      "          0.0, 0.0, 0.0, 0.0, 40.0, 0.0, 173.0, 0.0, 52.0, 50.0, 5.0, 148.0, 3.0,\n",
      "          0.0, 21.0, 37.0, 3.0, 0.0, 72.0, 116.0, 28.0, 52.0, 110.0, 0.0, 0.0,\n",
      "          435.0]\n",
      "})\n"
     ]
    }
   ],
   "source": [
    "graphForDates(homeworkData['Date'], dataType='subtotals', notes=True)"
   ]
  }
 ],
 "metadata": {
  "kernelspec": {
   "display_name": "Python 3",
   "language": "python",
   "name": "python3"
  },
  "language_info": {
   "codemirror_mode": {
    "name": "ipython",
    "version": 3
   },
   "file_extension": ".py",
   "mimetype": "text/x-python",
   "name": "python",
   "nbconvert_exporter": "python",
   "pygments_lexer": "ipython3",
   "version": "3.7.0"
  }
 },
 "nbformat": 4,
 "nbformat_minor": 2
}
