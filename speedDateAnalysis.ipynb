{
 "cells": [
  {
   "cell_type": "code",
   "execution_count": 23,
   "metadata": {
    "collapsed": true
   },
   "outputs": [
    {
     "name": "stdout",
     "output_type": "stream",
     "text": [
      "Requirement already satisfied: datascience in d:\\anaconda\\envs\\datascience362\\lib\\site-packages (0.10.6)\n",
      "Requirement already satisfied: folium==0.2.1 in d:\\anaconda\\envs\\datascience362\\lib\\site-packages (from datascience) (0.2.1)\n",
      "Requirement already satisfied: coveralls==0.5 in d:\\anaconda\\envs\\datascience362\\lib\\site-packages (from datascience) (0.5)\n",
      "Requirement already satisfied: sphinx in d:\\anaconda\\envs\\datascience362\\lib\\site-packages (from datascience) (1.8.1)\n",
      "Requirement already satisfied: setuptools in d:\\anaconda\\envs\\datascience362\\lib\\site-packages (from datascience) (40.4.3)\n",
      "Requirement already satisfied: coverage==3.7.1 in d:\\anaconda\\envs\\datascience362\\lib\\site-packages (from datascience) (3.7.1)\n",
      "Requirement already satisfied: pytest in d:\\anaconda\\envs\\datascience362\\lib\\site-packages (from datascience) (3.8.2)\n",
      "Requirement already satisfied: Jinja2 in d:\\anaconda\\envs\\datascience362\\lib\\site-packages (from folium==0.2.1->datascience) (2.10)\n",
      "Requirement already satisfied: PyYAML>=3.10 in d:\\anaconda\\envs\\datascience362\\lib\\site-packages (from coveralls==0.5->datascience) (3.13)\n",
      "Requirement already satisfied: docopt>=0.6.1 in d:\\anaconda\\envs\\datascience362\\lib\\site-packages (from coveralls==0.5->datascience) (0.6.2)\n",
      "Requirement already satisfied: requests>=1.0.0 in d:\\anaconda\\envs\\datascience362\\lib\\site-packages (from coveralls==0.5->datascience) (2.19.1)\n",
      "Requirement already satisfied: six>=1.5 in d:\\anaconda\\envs\\datascience362\\lib\\site-packages (from sphinx->datascience) (1.11.0)\n",
      "Requirement already satisfied: colorama>=0.3.5; sys_platform == \"win32\" in d:\\anaconda\\envs\\datascience362\\lib\\site-packages (from sphinx->datascience) (0.4.0)\n",
      "Requirement already satisfied: snowballstemmer>=1.1 in d:\\anaconda\\envs\\datascience362\\lib\\site-packages (from sphinx->datascience) (1.2.1)\n",
      "Requirement already satisfied: imagesize in d:\\anaconda\\envs\\datascience362\\lib\\site-packages (from sphinx->datascience) (1.1.0)\n",
      "Requirement already satisfied: alabaster<0.8,>=0.7 in d:\\anaconda\\envs\\datascience362\\lib\\site-packages (from sphinx->datascience) (0.7.12)\n",
      "Requirement already satisfied: Pygments>=2.0 in d:\\anaconda\\envs\\datascience362\\lib\\site-packages (from sphinx->datascience) (2.2.0)\n",
      "Requirement already satisfied: docutils>=0.11 in d:\\anaconda\\envs\\datascience362\\lib\\site-packages (from sphinx->datascience) (0.14)\n",
      "Requirement already satisfied: babel!=2.0,>=1.3 in d:\\anaconda\\envs\\datascience362\\lib\\site-packages (from sphinx->datascience) (2.6.0)\n",
      "Requirement already satisfied: packaging in d:\\anaconda\\envs\\datascience362\\lib\\site-packages (from sphinx->datascience) (18.0)\n",
      "Requirement already satisfied: sphinxcontrib-websupport in d:\\anaconda\\envs\\datascience362\\lib\\site-packages (from sphinx->datascience) (1.1.0)\n",
      "Requirement already satisfied: py>=1.5.0 in d:\\anaconda\\envs\\datascience362\\lib\\site-packages (from pytest->datascience) (1.7.0)\n",
      "Requirement already satisfied: attrs>=17.4.0 in d:\\anaconda\\envs\\datascience362\\lib\\site-packages (from pytest->datascience) (18.2.0)\n",
      "Requirement already satisfied: pluggy>=0.7 in d:\\anaconda\\envs\\datascience362\\lib\\site-packages (from pytest->datascience) (0.7.1)\n",
      "Requirement already satisfied: more-itertools>=4.0.0 in d:\\anaconda\\envs\\datascience362\\lib\\site-packages (from pytest->datascience) (4.3.0)\n",
      "Requirement already satisfied: atomicwrites>=1.0 in d:\\anaconda\\envs\\datascience362\\lib\\site-packages (from pytest->datascience) (1.2.1)\n",
      "Requirement already satisfied: MarkupSafe>=0.23 in d:\\anaconda\\envs\\datascience362\\lib\\site-packages (from Jinja2->folium==0.2.1->datascience) (1.0)\n",
      "Requirement already satisfied: idna<2.8,>=2.5 in d:\\anaconda\\envs\\datascience362\\lib\\site-packages (from requests>=1.0.0->coveralls==0.5->datascience) (2.7)\n",
      "Requirement already satisfied: chardet<3.1.0,>=3.0.2 in d:\\anaconda\\envs\\datascience362\\lib\\site-packages (from requests>=1.0.0->coveralls==0.5->datascience) (3.0.4)\n",
      "Requirement already satisfied: urllib3<1.24,>=1.21.1 in d:\\anaconda\\envs\\datascience362\\lib\\site-packages (from requests>=1.0.0->coveralls==0.5->datascience) (1.23)\n",
      "Requirement already satisfied: certifi>=2017.4.17 in d:\\anaconda\\envs\\datascience362\\lib\\site-packages (from requests>=1.0.0->coveralls==0.5->datascience) (2018.10.15)\n",
      "Requirement already satisfied: pytz>=0a in d:\\anaconda\\envs\\datascience362\\lib\\site-packages (from babel!=2.0,>=1.3->sphinx->datascience) (2018.5)\n",
      "Requirement already satisfied: pyparsing>=2.0.2 in d:\\anaconda\\envs\\datascience362\\lib\\site-packages (from packaging->sphinx->datascience) (2.2.2)\n",
      "Requirement already satisfied: wget in d:\\anaconda\\envs\\datascience362\\lib\\site-packages (3.2)\n",
      "Requirement already satisfied: plotly in d:\\anaconda\\envs\\datascience362\\lib\\site-packages (3.3.0)\n",
      "Requirement already satisfied: retrying>=1.3.3 in d:\\anaconda\\envs\\datascience362\\lib\\site-packages (from plotly) (1.3.3)\n",
      "Requirement already satisfied: decorator>=4.0.6 in d:\\anaconda\\envs\\datascience362\\lib\\site-packages (from plotly) (4.3.0)\n",
      "Requirement already satisfied: nbformat>=4.2 in d:\\anaconda\\envs\\datascience362\\lib\\site-packages (from plotly) (4.4.0)\n",
      "Requirement already satisfied: six in d:\\anaconda\\envs\\datascience362\\lib\\site-packages (from plotly) (1.11.0)\n",
      "Requirement already satisfied: pytz in d:\\anaconda\\envs\\datascience362\\lib\\site-packages (from plotly) (2018.5)\n",
      "Requirement already satisfied: requests in d:\\anaconda\\envs\\datascience362\\lib\\site-packages (from plotly) (2.19.1)\n",
      "Requirement already satisfied: jsonschema!=2.5.0,>=2.4 in d:\\anaconda\\envs\\datascience362\\lib\\site-packages (from nbformat>=4.2->plotly) (2.6.0)\n",
      "Requirement already satisfied: ipython-genutils in d:\\anaconda\\envs\\datascience362\\lib\\site-packages (from nbformat>=4.2->plotly) (0.2.0)\n",
      "Requirement already satisfied: jupyter-core in d:\\anaconda\\envs\\datascience362\\lib\\site-packages (from nbformat>=4.2->plotly) (4.4.0)\n",
      "Requirement already satisfied: traitlets>=4.1 in d:\\anaconda\\envs\\datascience362\\lib\\site-packages (from nbformat>=4.2->plotly) (4.3.2)\n",
      "Requirement already satisfied: urllib3<1.24,>=1.21.1 in d:\\anaconda\\envs\\datascience362\\lib\\site-packages (from requests->plotly) (1.23)\n",
      "Requirement already satisfied: idna<2.8,>=2.5 in d:\\anaconda\\envs\\datascience362\\lib\\site-packages (from requests->plotly) (2.7)\n",
      "Requirement already satisfied: certifi>=2017.4.17 in d:\\anaconda\\envs\\datascience362\\lib\\site-packages (from requests->plotly) (2018.10.15)\n",
      "Requirement already satisfied: chardet<3.1.0,>=3.0.2 in d:\\anaconda\\envs\\datascience362\\lib\\site-packages (from requests->plotly) (3.0.4)\n",
      "Collecting pdb\n"
     ]
    },
    {
     "name": "stderr",
     "output_type": "stream",
     "text": [
      "  Could not find a version that satisfies the requirement pdb (from versions: )\n",
      "No matching distribution found for pdb\n"
     ]
    }
   ],
   "source": [
    "!pip install datascience\n",
    "!pip install wget\n",
    "!pip install plotly\n",
    "!pip install pdb\n",
    "\n",
    "from datascience import *\n",
    "from plotly.offline import plot\n",
    "import wget\n",
    "import plotly.plotly as py\n",
    "import plotly.graph_objs as go\n",
    "import math\n",
    "import pdb\n",
    "import numpy as np"
   ]
  },
  {
   "cell_type": "code",
   "execution_count": 13,
   "metadata": {
    "collapsed": true
   },
   "outputs": [
    {
     "name": "stdout",
     "output_type": "stream",
     "text": [
      "\r",
      "  0% [                                                                            ]      0 / 306068\r",
      "  2% [..                                                                          ]   8192 / 306068\r",
      "  5% [....                                                                        ]  16384 / 306068\r",
      "  8% [......                                                                      ]  24576 / 306068\r",
      " 10% [........                                                                    ]  32768 / 306068\r",
      " 13% [..........                                                                  ]  40960 / 306068\r",
      " 16% [............                                                                ]  49152 / 306068\r",
      " 18% [..............                                                              ]  57344 / 306068\r",
      " 21% [................                                                            ]  65536 / 306068\r",
      " 24% [..................                                                          ]  73728 / 306068\r",
      " 26% [....................                                                        ]  81920 / 306068\r",
      " 29% [......................                                                      ]  90112 / 306068\r",
      " 32% [........................                                                    ]  98304 / 306068\r",
      " 34% [..........................                                                  ] 106496 / 306068\r",
      " 37% [............................                                                ] 114688 / 306068\r",
      " 40% [..............................                                              ] 122880 / 306068\r",
      " 42% [................................                                            ] 131072 / 306068\r",
      " 45% [..................................                                          ] 139264 / 306068\r",
      " 48% [....................................                                        ] 147456 / 306068\r",
      " 50% [......................................                                      ] 155648 / 306068\r",
      " 53% [........................................                                    ] 163840 / 306068\r",
      " 56% [..........................................                                  ] 172032 / 306068\r",
      " 58% [............................................                                ] 180224 / 306068\r",
      " 61% [..............................................                              ] 188416 / 306068\r",
      " 64% [................................................                            ] 196608 / 306068\r",
      " 66% [..................................................                          ] 204800 / 306068\r",
      " 69% [....................................................                        ] 212992 / 306068\r",
      " 72% [......................................................                      ] 221184 / 306068\r",
      " 74% [........................................................                    ] 229376 / 306068\r",
      " 77% [..........................................................                  ] 237568 / 306068\r",
      " 80% [.............................................................               ] 245760 / 306068\r",
      " 82% [...............................................................             ] 253952 / 306068\r",
      " 85% [.................................................................           ] 262144 / 306068\r",
      " 88% [...................................................................         ] 270336 / 306068\r",
      " 91% [.....................................................................       ] 278528 / 306068\r",
      " 93% [.......................................................................     ] 286720 / 306068\r",
      " 96% [.........................................................................   ] 294912 / 306068\r",
      " 99% [........................................................................... ] 303104 / 306068\r",
      "100% [............................................................................] 306068 / 306068"
     ]
    },
    {
     "data": {
      "text/plain": [
       "'sleeping-alone-data.csv'"
      ]
     },
     "execution_count": 13,
     "metadata": {},
     "output_type": "execute_result"
    }
   ],
   "source": [
    "wget.download('https://raw.githubusercontent.com/datasets/speed-dating/master/data/speed-dating.csv')"
   ]
  },
  {
   "cell_type": "markdown",
   "metadata": {},
   "source": [
    "# numpy.logical_and() and Table.where() #\n",
    "\n",
    "In order to use `Table.where()` with multiple conditional arguments, you can use a combination of list comprehension and the function `numpy.logical_and()`, which does not raise a `ValueError` line `and` does when used in a list comprehension. `Table.where()` takes a list of booleans, so we can use a for loop to loop through both conditionals and output `True` if both are true, and vice versa. This lets us say:\n",
    "\n",
    "`newTable = someTable.where([x for x in np.logical_and(someCondition1, someCondition2)])`"
   ]
  },
  {
   "cell_type": "code",
   "execution_count": 103,
   "metadata": {},
   "outputs": [
    {
     "data": {
      "text/plain": [
       "'file://C:\\\\Users\\\\Sivan Cooperman\\\\Desktop\\\\python\\\\Data-Science\\\\parIntOverSelfInt.html'"
      ]
     },
     "execution_count": 103,
     "metadata": {},
     "output_type": "execute_result"
    }
   ],
   "source": [
    "#Run to graph a user's rating of their intelligence against their speed dating partner's rating of the users intelligence, all over user ID\n",
    "\n",
    "#Initiating the master table\n",
    "dateData = Table.read_table('D:\\Datasets\\speed-dating.csv')\n",
    "\n",
    "#Creates a table with just the two intelligence ranking columns, and a second table with a third column,\n",
    "#the difference between the two rankings, sorted by that ranking\n",
    "intelRanking = dateData.where([notnan for notnan in np.logical_and(np.isnan(dateData['intelligence_o']) == False, np.isnan(dateData['intelligence']) == False)]).select('intelligence_o', 'intelligence')\n",
    "intByDiff = intelRanking.with_column('intDiff', np.abs(intelRanking['intelligence_o'] - intelRanking['intelligence'])).sort('intDiff', descending=True)\n",
    "\n",
    "#Convenient x-axis label for graphing both ratings on the y\n",
    "userID = list(range(intelRanking.num_rows))\n",
    "\n",
    "#Formatting data for graphing\n",
    "pList = [intXCoord for intXCoord in intByDiff['intelligence_o']]\n",
    "sList = [intYCoord for intYCoord in intByDiff['intelligence']]\n",
    "\n",
    "#Graphing data\n",
    "intPPoints = go.Scatter(x=userID, y=pList, mode='markers', name='Intelligence as Ranked by Partner')\n",
    "intSPoints = go.Scatter(x=userID, y=sList, mode='markers', name='Intelligence as Ranked by Self')\n",
    "plot([intPPoints, intSPoints], filename='parIntOverSelfInt.html')"
   ]
  },
  {
   "cell_type": "code",
   "execution_count": 26,
   "metadata": {},
   "outputs": [
    {
     "data": {
      "text/plain": [
       "'file://C:\\\\Users\\\\Sivan Cooperman\\\\Desktop\\\\python\\\\Data-Science\\\\raceDistDating.html'"
      ]
     },
     "execution_count": 26,
     "metadata": {},
     "output_type": "execute_result"
    }
   ],
   "source": [
    "#Creating a dictionary with race key and frequency value\n",
    "raceDict = {}\n",
    "for race in dateData['race']:\n",
    "    if race not in raceDict:\n",
    "        raceDict[race] = 1\n",
    "    else:\n",
    "        raceDict[race] += 1\n",
    "\n",
    "#Formatting data for graphing\n",
    "raceLabels = list(raceDict)\n",
    "numRace = [freq for race1, freq in raceDict.items()]\n",
    "raceData = go.Pie(labels=raceLabels, values=numRace)\n",
    "\n",
    "#Graphing data\n",
    "plot([raceData], filename='raceDistDating.html')\n",
    "        \n"
   ]
  },
  {
   "cell_type": "code",
   "execution_count": 96,
   "metadata": {},
   "outputs": [
    {
     "data": {
      "text/plain": [
       "'file://C:\\\\Users\\\\Sivan Cooperman\\\\Desktop\\\\python\\\\Data-Science\\\\attractiveness.html'"
      ]
     },
     "execution_count": 96,
     "metadata": {},
     "output_type": "execute_result"
    }
   ],
   "source": [
    "#Tables of whites with non-white partners and whites with white partners\n",
    "mixedWhiteDates = dateData.where('race', are.equal_to('european/caucasian-american')).where('samerace', are.equal_to(0))\n",
    "whiteDates = dateData.where('race', are.equal_to('european/caucasian-american')).where('samerace', are.equal_to(1))\n",
    "\n",
    "#mpa = mixedPercentAttractive, the percent of non-white partners rated a 7 or higher on attractiveness by whites\n",
    "mpa = mixedWhiteDates.where('attractive_partner', are.above_or_equal_to(7)).num_rows/mixedWhiteDates.num_rows\n",
    "\n",
    "#wpa = whitePercentAttractive, the percent of white partners rated a 7 or higher on attractiveness by whites\n",
    "wpa = whiteDates.where('attractive_partner', are.above_or_equal_to(7)).num_rows/whiteDates.num_rows\n",
    "\n",
    "#mrppa = mixedRacePreferentialPercentAttractive, the percent of non-white partners rated a 7 or higher on attractiveness\n",
    "#by whites who rated importance of a same-race partner 7 or higher\n",
    "mrppa = mixedWhiteDates.where('attractive_partner', are.above_or_equal_to(7)).where('importance_same_race',\\\n",
    "are.above_or_equal_to(7)).num_rows/mixedWhiteDates.where('importance_same_race', are.above_or_equal_to(7)).num_rows\n",
    "\n",
    "#wrppa = whiteRacePreferentialPercentAttractive, the percent of white partners rated a 7 or higher on attractiveness\n",
    "#by whites who rated importance of a same-race partner 7 or higher\n",
    "wrppa = whiteDates.where('attractive_partner', are.above_or_equal_to(7)).where('importance_same_race',\\\n",
    "are.above_or_equal_to(7)).num_rows/whiteDates.where('importance_same_race', are.above_or_equal_to(7)).num_rows\n",
    "\n",
    "#Formatting and labeling data for graphing\n",
    "attractivenessByRaceLabels = ['Attractive non-white',\n",
    "                              'Attractive white',\n",
    "                              'Attractive non-white with same-race pref',\n",
    "                              'Attractive white with same-race pref']\n",
    "attractivenessByRacePercents = [mpa, wpa, mrppa, wrppa]\n",
    "attractivenessByRacePercentsRounded = [round(x,3) for x in attractivenessByRacePercents]\n",
    "\n",
    "attractivenessData = go.Bar(x=attractivenessByRaceLabels, y=attractivenessByRacePercentsRounded)\n",
    "\n",
    "#Graphing data\n",
    "plot([attractivenessData], filename='attractiveness.html')"
   ]
  }
 ],
 "metadata": {
  "kernelspec": {
   "display_name": "Python 3",
   "language": "python",
   "name": "python3"
  },
  "language_info": {
   "codemirror_mode": {
    "name": "ipython",
    "version": 3
   },
   "file_extension": ".py",
   "mimetype": "text/x-python",
   "name": "python",
   "nbconvert_exporter": "python",
   "pygments_lexer": "ipython3",
   "version": "3.7.0"
  }
 },
 "nbformat": 4,
 "nbformat_minor": 2
}
