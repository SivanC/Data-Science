{
 "cells": [
  {
   "cell_type": "code",
   "execution_count": 1,
   "metadata": {
    "collapsed": true
   },
   "outputs": [
    {
     "name": "stdout",
     "output_type": "stream",
     "text": [
      "Requirement already satisfied: datascience in d:\\anaconda\\lib\\site-packages (0.10.6)\n",
      "Requirement already satisfied: sphinx in d:\\anaconda\\lib\\site-packages (from datascience) (1.7.9)\n",
      "Requirement already satisfied: pytest in d:\\anaconda\\lib\\site-packages (from datascience) (3.8.0)\n",
      "Requirement already satisfied: setuptools in d:\\anaconda\\lib\\site-packages (from datascience) (40.2.0)\n",
      "Requirement already satisfied: coverage==3.7.1 in d:\\anaconda\\lib\\site-packages (from datascience) (3.7.1)\n",
      "Requirement already satisfied: coveralls==0.5 in d:\\anaconda\\lib\\site-packages (from datascience) (0.5)\n",
      "Requirement already satisfied: folium==0.2.1 in d:\\anaconda\\lib\\site-packages (from datascience) (0.2.1)\n",
      "Requirement already satisfied: six>=1.5 in d:\\anaconda\\lib\\site-packages (from sphinx->datascience) (1.11.0)\n",
      "Requirement already satisfied: Jinja2>=2.3 in d:\\anaconda\\lib\\site-packages (from sphinx->datascience) (2.10)\n",
      "Requirement already satisfied: Pygments>=2.0 in d:\\anaconda\\lib\\site-packages (from sphinx->datascience) (2.2.0)\n",
      "Requirement already satisfied: docutils>=0.11 in d:\\anaconda\\lib\\site-packages (from sphinx->datascience) (0.14)\n",
      "Requirement already satisfied: snowballstemmer>=1.1 in d:\\anaconda\\lib\\site-packages (from sphinx->datascience) (1.2.1)\n",
      "Requirement already satisfied: babel!=2.0,>=1.3 in d:\\anaconda\\lib\\site-packages (from sphinx->datascience) (2.6.0)\n",
      "Requirement already satisfied: alabaster<0.8,>=0.7 in d:\\anaconda\\lib\\site-packages (from sphinx->datascience) (0.7.11)\n",
      "Requirement already satisfied: imagesize in d:\\anaconda\\lib\\site-packages (from sphinx->datascience) (1.1.0)\n",
      "Requirement already satisfied: requests>=2.0.0 in d:\\anaconda\\lib\\site-packages (from sphinx->datascience) (2.19.1)\n",
      "Requirement already satisfied: packaging in d:\\anaconda\\lib\\site-packages (from sphinx->datascience) (17.1)\n",
      "Requirement already satisfied: sphinxcontrib-websupport in d:\\anaconda\\lib\\site-packages (from sphinx->datascience) (1.1.0)\n",
      "Requirement already satisfied: colorama>=0.3.5 in d:\\anaconda\\lib\\site-packages (from sphinx->datascience) (0.3.9)\n",
      "Requirement already satisfied: py>=1.5.0 in d:\\anaconda\\lib\\site-packages (from pytest->datascience) (1.6.0)\n",
      "Requirement already satisfied: attrs>=17.4.0 in d:\\anaconda\\lib\\site-packages (from pytest->datascience) (18.2.0)\n",
      "Requirement already satisfied: more-itertools>=4.0.0 in d:\\anaconda\\lib\\site-packages (from pytest->datascience) (4.3.0)\n",
      "Requirement already satisfied: atomicwrites>=1.0 in d:\\anaconda\\lib\\site-packages (from pytest->datascience) (1.2.1)\n",
      "Requirement already satisfied: pluggy>=0.7 in d:\\anaconda\\lib\\site-packages (from pytest->datascience) (0.7.1)\n",
      "Requirement already satisfied: docopt>=0.6.1 in d:\\anaconda\\lib\\site-packages (from coveralls==0.5->datascience) (0.6.2)\n",
      "Requirement already satisfied: PyYAML>=3.10 in d:\\anaconda\\lib\\site-packages (from coveralls==0.5->datascience) (3.13)\n",
      "Requirement already satisfied: MarkupSafe>=0.23 in d:\\anaconda\\lib\\site-packages (from Jinja2>=2.3->sphinx->datascience) (1.0)\n",
      "Requirement already satisfied: pytz>=0a in d:\\anaconda\\lib\\site-packages (from babel!=2.0,>=1.3->sphinx->datascience) (2018.5)\n",
      "Requirement already satisfied: chardet<3.1.0,>=3.0.2 in d:\\anaconda\\lib\\site-packages (from requests>=2.0.0->sphinx->datascience) (3.0.4)\n",
      "Requirement already satisfied: idna<2.8,>=2.5 in d:\\anaconda\\lib\\site-packages (from requests>=2.0.0->sphinx->datascience) (2.7)\n",
      "Requirement already satisfied: certifi>=2017.4.17 in d:\\anaconda\\lib\\site-packages (from requests>=2.0.0->sphinx->datascience) (2018.8.24)\n",
      "Requirement already satisfied: urllib3<1.24,>=1.21.1 in d:\\anaconda\\lib\\site-packages (from requests>=2.0.0->sphinx->datascience) (1.23)\n",
      "Requirement already satisfied: pyparsing>=2.0.2 in d:\\anaconda\\lib\\site-packages (from packaging->sphinx->datascience) (2.2.0)\n"
     ]
    },
    {
     "name": "stderr",
     "output_type": "stream",
     "text": [
      "twisted 18.7.0 requires PyHamcrest>=1.9.0, which is not installed.\n",
      "You are using pip version 10.0.1, however version 18.1 is available.\n",
      "You should consider upgrading via the 'python -m pip install --upgrade pip' command.\n"
     ]
    },
    {
     "name": "stdout",
     "output_type": "stream",
     "text": [
      "Requirement already satisfied: wget in d:\\anaconda\\lib\\site-packages (3.2)\n"
     ]
    },
    {
     "name": "stderr",
     "output_type": "stream",
     "text": [
      "twisted 18.7.0 requires PyHamcrest>=1.9.0, which is not installed.\n",
      "You are using pip version 10.0.1, however version 18.1 is available.\n",
      "You should consider upgrading via the 'python -m pip install --upgrade pip' command.\n"
     ]
    },
    {
     "name": "stdout",
     "output_type": "stream",
     "text": [
      "Requirement already satisfied: plotly in d:\\anaconda\\lib\\site-packages (3.3.0)\n",
      "Requirement already satisfied: decorator>=4.0.6 in d:\\anaconda\\lib\\site-packages (from plotly) (4.3.0)\n",
      "Requirement already satisfied: retrying>=1.3.3 in d:\\anaconda\\lib\\site-packages (from plotly) (1.3.3)\n",
      "Requirement already satisfied: requests in d:\\anaconda\\lib\\site-packages (from plotly) (2.19.1)\n",
      "Requirement already satisfied: pytz in d:\\anaconda\\lib\\site-packages (from plotly) (2018.5)\n",
      "Requirement already satisfied: six in d:\\anaconda\\lib\\site-packages (from plotly) (1.11.0)\n",
      "Requirement already satisfied: nbformat>=4.2 in d:\\anaconda\\lib\\site-packages (from plotly) (4.4.0)\n",
      "Requirement already satisfied: urllib3<1.24,>=1.21.1 in d:\\anaconda\\lib\\site-packages (from requests->plotly) (1.23)\n",
      "Requirement already satisfied: certifi>=2017.4.17 in d:\\anaconda\\lib\\site-packages (from requests->plotly) (2018.8.24)\n",
      "Requirement already satisfied: idna<2.8,>=2.5 in d:\\anaconda\\lib\\site-packages (from requests->plotly) (2.7)\n",
      "Requirement already satisfied: chardet<3.1.0,>=3.0.2 in d:\\anaconda\\lib\\site-packages (from requests->plotly) (3.0.4)\n",
      "Requirement already satisfied: traitlets>=4.1 in d:\\anaconda\\lib\\site-packages (from nbformat>=4.2->plotly) (4.3.2)\n",
      "Requirement already satisfied: jsonschema!=2.5.0,>=2.4 in d:\\anaconda\\lib\\site-packages (from nbformat>=4.2->plotly) (2.6.0)\n",
      "Requirement already satisfied: ipython-genutils in d:\\anaconda\\lib\\site-packages (from nbformat>=4.2->plotly) (0.2.0)\n",
      "Requirement already satisfied: jupyter-core in d:\\anaconda\\lib\\site-packages (from nbformat>=4.2->plotly) (4.4.0)\n"
     ]
    },
    {
     "name": "stderr",
     "output_type": "stream",
     "text": [
      "twisted 18.7.0 requires PyHamcrest>=1.9.0, which is not installed.\n",
      "You are using pip version 10.0.1, however version 18.1 is available.\n",
      "You should consider upgrading via the 'python -m pip install --upgrade pip' command.\n"
     ]
    },
    {
     "name": "stdout",
     "output_type": "stream",
     "text": [
      "Collecting pdb\n"
     ]
    },
    {
     "name": "stderr",
     "output_type": "stream",
     "text": [
      "  Could not find a version that satisfies the requirement pdb (from versions: )\n",
      "No matching distribution found for pdb\n",
      "You are using pip version 10.0.1, however version 18.1 is available.\n",
      "You should consider upgrading via the 'python -m pip install --upgrade pip' command.\n"
     ]
    }
   ],
   "source": [
    "!pip install datascience\n",
    "!pip install wget\n",
    "!pip install plotly\n",
    "!pip install pdb\n",
    "\n",
    "from datascience import *\n",
    "from plotly.offline import plot\n",
    "import wget\n",
    "import plotly.plotly as py\n",
    "import plotly.graph_objs as go\n",
    "import math\n",
    "import pdb"
   ]
  },
  {
   "cell_type": "code",
   "execution_count": 19,
   "metadata": {},
   "outputs": [],
   "source": [
    "mushroomData = Table.read_table('D:\\Datasets\\mushroom-characteristics.csv')\n",
    "poisonShrooms = mushroomData.where([x for x in mushroomData['class'] == 'p'])\n",
    "edibleShrooms = mushroomData.where([x for x in mushroomData['class'] == 'e'])\n",
    "\n",
    "poisonDict = {}\n",
    "edibleDict = {}"
   ]
  }
 ],
 "metadata": {
  "kernelspec": {
   "display_name": "Python 3",
   "language": "python",
   "name": "python3"
  },
  "language_info": {
   "codemirror_mode": {
    "name": "ipython",
    "version": 3
   },
   "file_extension": ".py",
   "mimetype": "text/x-python",
   "name": "python",
   "nbconvert_exporter": "python",
   "pygments_lexer": "ipython3",
   "version": "3.7.0"
  }
 },
 "nbformat": 4,
 "nbformat_minor": 2
}
