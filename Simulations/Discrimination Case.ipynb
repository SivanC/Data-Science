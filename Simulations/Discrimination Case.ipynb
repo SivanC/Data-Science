{
 "cells": [
  {
   "cell_type": "code",
   "execution_count": 1,
   "metadata": {
    "collapsed": true
   },
   "outputs": [
    {
     "name": "stdout",
     "output_type": "stream",
     "text": [
      "Requirement already satisfied: datascience in d:\\anaconda\\envs\\datascience362\\lib\\site-packages (0.10.6)\n",
      "Requirement already satisfied: setuptools in d:\\anaconda\\envs\\datascience362\\lib\\site-packages (from datascience) (40.4.3)\n",
      "Requirement already satisfied: folium==0.2.1 in d:\\anaconda\\envs\\datascience362\\lib\\site-packages (from datascience) (0.2.1)\n",
      "Requirement already satisfied: sphinx in d:\\anaconda\\envs\\datascience362\\lib\\site-packages (from datascience) (1.8.1)\n",
      "Requirement already satisfied: pytest in d:\\anaconda\\envs\\datascience362\\lib\\site-packages (from datascience) (3.8.2)\n",
      "Requirement already satisfied: coveralls==0.5 in d:\\anaconda\\envs\\datascience362\\lib\\site-packages (from datascience) (0.5)\n",
      "Requirement already satisfied: coverage==3.7.1 in d:\\anaconda\\envs\\datascience362\\lib\\site-packages (from datascience) (3.7.1)\n",
      "Requirement already satisfied: Jinja2 in d:\\anaconda\\envs\\datascience362\\lib\\site-packages (from folium==0.2.1->datascience) (2.10)\n",
      "Requirement already satisfied: packaging in d:\\anaconda\\envs\\datascience362\\lib\\site-packages (from sphinx->datascience) (18.0)\n",
      "Requirement already satisfied: docutils>=0.11 in d:\\anaconda\\envs\\datascience362\\lib\\site-packages (from sphinx->datascience) (0.14)\n",
      "Requirement already satisfied: alabaster<0.8,>=0.7 in d:\\anaconda\\envs\\datascience362\\lib\\site-packages (from sphinx->datascience) (0.7.12)\n",
      "Requirement already satisfied: imagesize in d:\\anaconda\\envs\\datascience362\\lib\\site-packages (from sphinx->datascience) (1.1.0)\n",
      "Requirement already satisfied: sphinxcontrib-websupport in d:\\anaconda\\envs\\datascience362\\lib\\site-packages (from sphinx->datascience) (1.1.0)\n",
      "Requirement already satisfied: colorama>=0.3.5; sys_platform == \"win32\" in d:\\anaconda\\envs\\datascience362\\lib\\site-packages (from sphinx->datascience) (0.4.0)\n",
      "Requirement already satisfied: Pygments>=2.0 in d:\\anaconda\\envs\\datascience362\\lib\\site-packages (from sphinx->datascience) (2.2.0)\n",
      "Requirement already satisfied: snowballstemmer>=1.1 in d:\\anaconda\\envs\\datascience362\\lib\\site-packages (from sphinx->datascience) (1.2.1)\n",
      "Requirement already satisfied: requests>=2.0.0 in d:\\anaconda\\envs\\datascience362\\lib\\site-packages (from sphinx->datascience) (2.19.1)\n",
      "Requirement already satisfied: six>=1.5 in d:\\anaconda\\envs\\datascience362\\lib\\site-packages (from sphinx->datascience) (1.11.0)\n",
      "Requirement already satisfied: babel!=2.0,>=1.3 in d:\\anaconda\\envs\\datascience362\\lib\\site-packages (from sphinx->datascience) (2.6.0)\n",
      "Requirement already satisfied: atomicwrites>=1.0 in d:\\anaconda\\envs\\datascience362\\lib\\site-packages (from pytest->datascience) (1.2.1)\n",
      "Requirement already satisfied: more-itertools>=4.0.0 in d:\\anaconda\\envs\\datascience362\\lib\\site-packages (from pytest->datascience) (4.3.0)\n",
      "Requirement already satisfied: py>=1.5.0 in d:\\anaconda\\envs\\datascience362\\lib\\site-packages (from pytest->datascience) (1.7.0)\n",
      "Requirement already satisfied: pluggy>=0.7 in d:\\anaconda\\envs\\datascience362\\lib\\site-packages (from pytest->datascience) (0.7.1)\n",
      "Requirement already satisfied: attrs>=17.4.0 in d:\\anaconda\\envs\\datascience362\\lib\\site-packages (from pytest->datascience) (18.2.0)\n",
      "Requirement already satisfied: PyYAML>=3.10 in d:\\anaconda\\envs\\datascience362\\lib\\site-packages (from coveralls==0.5->datascience) (3.13)\n",
      "Requirement already satisfied: docopt>=0.6.1 in d:\\anaconda\\envs\\datascience362\\lib\\site-packages (from coveralls==0.5->datascience) (0.6.2)\n",
      "Requirement already satisfied: MarkupSafe>=0.23 in d:\\anaconda\\envs\\datascience362\\lib\\site-packages (from Jinja2->folium==0.2.1->datascience) (1.0)\n",
      "Requirement already satisfied: pyparsing>=2.0.2 in d:\\anaconda\\envs\\datascience362\\lib\\site-packages (from packaging->sphinx->datascience) (2.2.2)\n",
      "Requirement already satisfied: chardet<3.1.0,>=3.0.2 in d:\\anaconda\\envs\\datascience362\\lib\\site-packages (from requests>=2.0.0->sphinx->datascience) (3.0.4)\n",
      "Requirement already satisfied: certifi>=2017.4.17 in d:\\anaconda\\envs\\datascience362\\lib\\site-packages (from requests>=2.0.0->sphinx->datascience) (2018.10.15)\n",
      "Requirement already satisfied: idna<2.8,>=2.5 in d:\\anaconda\\envs\\datascience362\\lib\\site-packages (from requests>=2.0.0->sphinx->datascience) (2.7)\n",
      "Requirement already satisfied: urllib3<1.24,>=1.21.1 in d:\\anaconda\\envs\\datascience362\\lib\\site-packages (from requests>=2.0.0->sphinx->datascience) (1.23)\n",
      "Requirement already satisfied: pytz>=0a in d:\\anaconda\\envs\\datascience362\\lib\\site-packages (from babel!=2.0,>=1.3->sphinx->datascience) (2018.5)\n",
      "Requirement already satisfied: wget in d:\\anaconda\\envs\\datascience362\\lib\\site-packages (3.2)\n",
      "Requirement already satisfied: plotly in d:\\anaconda\\envs\\datascience362\\lib\\site-packages (3.3.0)\n",
      "Requirement already satisfied: nbformat>=4.2 in d:\\anaconda\\envs\\datascience362\\lib\\site-packages (from plotly) (4.4.0)\n",
      "Requirement already satisfied: requests in d:\\anaconda\\envs\\datascience362\\lib\\site-packages (from plotly) (2.19.1)\n",
      "Requirement already satisfied: retrying>=1.3.3 in d:\\anaconda\\envs\\datascience362\\lib\\site-packages (from plotly) (1.3.3)\n",
      "Requirement already satisfied: decorator>=4.0.6 in d:\\anaconda\\envs\\datascience362\\lib\\site-packages (from plotly) (4.3.0)\n",
      "Requirement already satisfied: pytz in d:\\anaconda\\envs\\datascience362\\lib\\site-packages (from plotly) (2018.5)\n",
      "Requirement already satisfied: six in d:\\anaconda\\envs\\datascience362\\lib\\site-packages (from plotly) (1.11.0)\n",
      "Requirement already satisfied: ipython-genutils in d:\\anaconda\\envs\\datascience362\\lib\\site-packages (from nbformat>=4.2->plotly) (0.2.0)\n",
      "Requirement already satisfied: jupyter-core in d:\\anaconda\\envs\\datascience362\\lib\\site-packages (from nbformat>=4.2->plotly) (4.4.0)\n",
      "Requirement already satisfied: jsonschema!=2.5.0,>=2.4 in d:\\anaconda\\envs\\datascience362\\lib\\site-packages (from nbformat>=4.2->plotly) (2.6.0)\n",
      "Requirement already satisfied: traitlets>=4.1 in d:\\anaconda\\envs\\datascience362\\lib\\site-packages (from nbformat>=4.2->plotly) (4.3.2)\n",
      "Requirement already satisfied: idna<2.8,>=2.5 in d:\\anaconda\\envs\\datascience362\\lib\\site-packages (from requests->plotly) (2.7)\n",
      "Requirement already satisfied: certifi>=2017.4.17 in d:\\anaconda\\envs\\datascience362\\lib\\site-packages (from requests->plotly) (2018.10.15)\n",
      "Requirement already satisfied: chardet<3.1.0,>=3.0.2 in d:\\anaconda\\envs\\datascience362\\lib\\site-packages (from requests->plotly) (3.0.4)\n",
      "Requirement already satisfied: urllib3<1.24,>=1.21.1 in d:\\anaconda\\envs\\datascience362\\lib\\site-packages (from requests->plotly) (1.23)\n"
     ]
    }
   ],
   "source": [
    "!pip install datascience\n",
    "!pip install wget\n",
    "!pip install plotly"
   ]
  },
  {
   "cell_type": "code",
   "execution_count": 1,
   "metadata": {},
   "outputs": [],
   "source": [
    "from datascience import *\n",
    "from plotly.offline import plot\n",
    "import numpy as np\n",
    "import wget\n",
    "import plotly.plotly as py\n",
    "import plotly.graph_objs as go\n",
    "import math"
   ]
  },
  {
   "cell_type": "code",
   "execution_count": 10,
   "metadata": {},
   "outputs": [
    {
     "name": "stderr",
     "output_type": "stream",
     "text": [
      "D:\\Anaconda\\lib\\site-packages\\plotly\\graph_objs\\_deprecations.py:372: DeprecationWarning:\n",
      "\n",
      "plotly.graph_objs.Line is deprecated.\n",
      "Please replace it with one of the following more specific types\n",
      "  - plotly.graph_objs.scatter.Line\n",
      "  - plotly.graph_objs.layout.shape.Line\n",
      "  - etc.\n",
      "\n",
      "\n"
     ]
    },
    {
     "data": {
      "text/html": [
       "<table border=\"1\" class=\"dataframe\">\n",
       "    <thead>\n",
       "        <tr>\n",
       "            <th>Number of >55 Fired</th> <th>Frequency</th> <th>Percent</th>\n",
       "        </tr>\n",
       "    </thead>\n",
       "    <tbody>\n",
       "        <tr>\n",
       "            <td>0                  </td> <td>6506     </td> <td>6.5    </td>\n",
       "        </tr>\n",
       "        <tr>\n",
       "            <td>1                  </td> <td>20300    </td> <td>20.3   </td>\n",
       "        </tr>\n",
       "        <tr>\n",
       "            <td>2                  </td> <td>28857    </td> <td>28.9   </td>\n",
       "        </tr>\n",
       "        <tr>\n",
       "            <td>3                  </td> <td>24263    </td> <td>24.3   </td>\n",
       "        </tr>\n",
       "        <tr>\n",
       "            <td>4                  </td> <td>13350    </td> <td>13.4   </td>\n",
       "        </tr>\n",
       "        <tr>\n",
       "            <td>5                  </td> <td>5102     </td> <td>5.1    </td>\n",
       "        </tr>\n",
       "        <tr>\n",
       "            <td>6                  </td> <td>1320     </td> <td>1.3    </td>\n",
       "        </tr>\n",
       "        <tr>\n",
       "            <td>7                  </td> <td>274      </td> <td>0.3    </td>\n",
       "        </tr>\n",
       "        <tr>\n",
       "            <td>8                  </td> <td>27       </td> <td>0      </td>\n",
       "        </tr>\n",
       "        <tr>\n",
       "            <td>9                  </td> <td>1        </td> <td>0      </td>\n",
       "        </tr>\n",
       "        <tr>\n",
       "            <td>10                 </td> <td>0        </td> <td>0      </td>\n",
       "        </tr>\n",
       "    </tbody>\n",
       "</table>"
      ],
      "text/plain": [
       "<IPython.core.display.HTML object>"
      ]
     },
     "metadata": {},
     "output_type": "display_data"
    }
   ],
   "source": [
    "def discriminationSim(trials, salesStaff=200, percentOld=0.24, fired=10, percent=True):\n",
    "    numFired  = {k:v for k,v in zip(range(fired + 1), [0 for x in range(fired + 1)])}\n",
    "    for trial in range(trials):\n",
    "        fired = list(np.random.choice(['old', 'young'], 10, p=[percentOld, 1-percentOld])).count('old')\n",
    "        numFired[fired] += 1\n",
    "    firedTable = Table().with_columns('Number of >55 Fired', [x for x in numFired.keys()],\n",
    "                                      'Frequency', [y for y in numFired.values()],\n",
    "                                      'Percent', [100*round(z/trials, 3) for z in numFired.values()])\n",
    "    \n",
    "    x = list(firedTable['Number of >55 Fired'])\n",
    "    if percent:\n",
    "        y = firedTable['Percent']\n",
    "    else:\n",
    "        y = firedTable['Frequency']\n",
    "    \n",
    "    regressionPolynomial = np.poly1d(np.polyfit(x, y, 8))\n",
    "    \n",
    "    xReg = np.linspace(0,10,1000)\n",
    "    yReg = [regressionPolynomial(val) for val in xReg]\n",
    "    \n",
    "    freqs = go.Bar(x=x, y=y, name='Frequency')\n",
    "    reg = go.Line(x=xReg, y=yReg, name='Regression Line')\n",
    "    layout = go.Layout(hovermode='closest')\n",
    "    fig = go.Figure(data=[freqs, reg], layout=layout)\n",
    "    \n",
    "    plot(fig, filename='Discrimination Case.html')\n",
    "    return firedTable.show()\n",
    "    \n",
    "discriminationSim(100000)"
   ]
  },
  {
   "cell_type": "code",
   "execution_count": null,
   "metadata": {},
   "outputs": [],
   "source": []
  }
 ],
 "metadata": {
  "kernelspec": {
   "display_name": "Python 3",
   "language": "python",
   "name": "python3"
  },
  "language_info": {
   "codemirror_mode": {
    "name": "ipython",
    "version": 3
   },
   "file_extension": ".py",
   "mimetype": "text/x-python",
   "name": "python",
   "nbconvert_exporter": "python",
   "pygments_lexer": "ipython3",
   "version": "3.7.0"
  }
 },
 "nbformat": 4,
 "nbformat_minor": 2
}
