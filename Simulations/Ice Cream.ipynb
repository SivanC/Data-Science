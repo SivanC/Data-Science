{
 "cells": [
  {
   "cell_type": "code",
   "execution_count": 2,
   "metadata": {
    "collapsed": true
   },
   "outputs": [
    {
     "name": "stdout",
     "output_type": "stream",
     "text": [
      "Requirement already satisfied: datascience in d:\\anaconda\\envs\\datascience362\\lib\\site-packages (0.10.6)\n",
      "Requirement already satisfied: coverage==3.7.1 in d:\\anaconda\\envs\\datascience362\\lib\\site-packages (from datascience) (3.7.1)\n",
      "Requirement already satisfied: pytest in d:\\anaconda\\envs\\datascience362\\lib\\site-packages (from datascience) (3.8.2)\n",
      "Requirement already satisfied: coveralls==0.5 in d:\\anaconda\\envs\\datascience362\\lib\\site-packages (from datascience) (0.5)\n",
      "Requirement already satisfied: folium==0.2.1 in d:\\anaconda\\envs\\datascience362\\lib\\site-packages (from datascience) (0.2.1)\n",
      "Requirement already satisfied: sphinx in d:\\anaconda\\envs\\datascience362\\lib\\site-packages (from datascience) (1.8.1)\n",
      "Requirement already satisfied: setuptools in d:\\anaconda\\envs\\datascience362\\lib\\site-packages (from datascience) (40.4.3)\n",
      "Requirement already satisfied: atomicwrites>=1.0 in d:\\anaconda\\envs\\datascience362\\lib\\site-packages (from pytest->datascience) (1.2.1)\n",
      "Requirement already satisfied: six>=1.10.0 in d:\\anaconda\\envs\\datascience362\\lib\\site-packages (from pytest->datascience) (1.11.0)\n",
      "Requirement already satisfied: py>=1.5.0 in d:\\anaconda\\envs\\datascience362\\lib\\site-packages (from pytest->datascience) (1.7.0)\n",
      "Requirement already satisfied: pluggy>=0.7 in d:\\anaconda\\envs\\datascience362\\lib\\site-packages (from pytest->datascience) (0.7.1)\n",
      "Requirement already satisfied: colorama; sys_platform == \"win32\" in d:\\anaconda\\envs\\datascience362\\lib\\site-packages (from pytest->datascience) (0.4.0)\n",
      "Requirement already satisfied: more-itertools>=4.0.0 in d:\\anaconda\\envs\\datascience362\\lib\\site-packages (from pytest->datascience) (4.3.0)\n",
      "Requirement already satisfied: attrs>=17.4.0 in d:\\anaconda\\envs\\datascience362\\lib\\site-packages (from pytest->datascience) (18.2.0)\n",
      "Requirement already satisfied: docopt>=0.6.1 in d:\\anaconda\\envs\\datascience362\\lib\\site-packages (from coveralls==0.5->datascience) (0.6.2)\n",
      "Requirement already satisfied: PyYAML>=3.10 in d:\\anaconda\\envs\\datascience362\\lib\\site-packages (from coveralls==0.5->datascience) (3.13)\n",
      "Requirement already satisfied: requests>=1.0.0 in d:\\anaconda\\envs\\datascience362\\lib\\site-packages (from coveralls==0.5->datascience) (2.19.1)\n",
      "Requirement already satisfied: Jinja2 in d:\\anaconda\\envs\\datascience362\\lib\\site-packages (from folium==0.2.1->datascience) (2.10)\n",
      "Requirement already satisfied: sphinxcontrib-websupport in d:\\anaconda\\envs\\datascience362\\lib\\site-packages (from sphinx->datascience) (1.1.0)\n",
      "Requirement already satisfied: babel!=2.0,>=1.3 in d:\\anaconda\\envs\\datascience362\\lib\\site-packages (from sphinx->datascience) (2.6.0)\n",
      "Requirement already satisfied: Pygments>=2.0 in d:\\anaconda\\envs\\datascience362\\lib\\site-packages (from sphinx->datascience) (2.2.0)\n",
      "Requirement already satisfied: docutils>=0.11 in d:\\anaconda\\envs\\datascience362\\lib\\site-packages (from sphinx->datascience) (0.14)\n",
      "Requirement already satisfied: alabaster<0.8,>=0.7 in d:\\anaconda\\envs\\datascience362\\lib\\site-packages (from sphinx->datascience) (0.7.12)\n",
      "Requirement already satisfied: packaging in d:\\anaconda\\envs\\datascience362\\lib\\site-packages (from sphinx->datascience) (18.0)\n",
      "Requirement already satisfied: imagesize in d:\\anaconda\\envs\\datascience362\\lib\\site-packages (from sphinx->datascience) (1.1.0)\n",
      "Requirement already satisfied: snowballstemmer>=1.1 in d:\\anaconda\\envs\\datascience362\\lib\\site-packages (from sphinx->datascience) (1.2.1)\n",
      "Requirement already satisfied: certifi>=2017.4.17 in d:\\anaconda\\envs\\datascience362\\lib\\site-packages (from requests>=1.0.0->coveralls==0.5->datascience) (2018.10.15)\n",
      "Requirement already satisfied: idna<2.8,>=2.5 in d:\\anaconda\\envs\\datascience362\\lib\\site-packages (from requests>=1.0.0->coveralls==0.5->datascience) (2.7)\n",
      "Requirement already satisfied: chardet<3.1.0,>=3.0.2 in d:\\anaconda\\envs\\datascience362\\lib\\site-packages (from requests>=1.0.0->coveralls==0.5->datascience) (3.0.4)\n",
      "Requirement already satisfied: urllib3<1.24,>=1.21.1 in d:\\anaconda\\envs\\datascience362\\lib\\site-packages (from requests>=1.0.0->coveralls==0.5->datascience) (1.23)\n",
      "Requirement already satisfied: MarkupSafe>=0.23 in d:\\anaconda\\envs\\datascience362\\lib\\site-packages (from Jinja2->folium==0.2.1->datascience) (1.0)\n",
      "Requirement already satisfied: pytz>=0a in d:\\anaconda\\envs\\datascience362\\lib\\site-packages (from babel!=2.0,>=1.3->sphinx->datascience) (2018.5)\n",
      "Requirement already satisfied: pyparsing>=2.0.2 in d:\\anaconda\\envs\\datascience362\\lib\\site-packages (from packaging->sphinx->datascience) (2.2.2)\n",
      "Requirement already satisfied: wget in d:\\anaconda\\envs\\datascience362\\lib\\site-packages (3.2)\n",
      "Requirement already satisfied: plotly in d:\\anaconda\\envs\\datascience362\\lib\\site-packages (3.3.0)\n",
      "Requirement already satisfied: retrying>=1.3.3 in d:\\anaconda\\envs\\datascience362\\lib\\site-packages (from plotly) (1.3.3)\n",
      "Requirement already satisfied: pytz in d:\\anaconda\\envs\\datascience362\\lib\\site-packages (from plotly) (2018.5)\n",
      "Requirement already satisfied: decorator>=4.0.6 in d:\\anaconda\\envs\\datascience362\\lib\\site-packages (from plotly) (4.3.0)\n",
      "Requirement already satisfied: six in d:\\anaconda\\envs\\datascience362\\lib\\site-packages (from plotly) (1.11.0)\n",
      "Requirement already satisfied: requests in d:\\anaconda\\envs\\datascience362\\lib\\site-packages (from plotly) (2.19.1)\n",
      "Requirement already satisfied: nbformat>=4.2 in d:\\anaconda\\envs\\datascience362\\lib\\site-packages (from plotly) (4.4.0)\n",
      "Requirement already satisfied: chardet<3.1.0,>=3.0.2 in d:\\anaconda\\envs\\datascience362\\lib\\site-packages (from requests->plotly) (3.0.4)\n",
      "Requirement already satisfied: certifi>=2017.4.17 in d:\\anaconda\\envs\\datascience362\\lib\\site-packages (from requests->plotly) (2018.10.15)\n",
      "Requirement already satisfied: idna<2.8,>=2.5 in d:\\anaconda\\envs\\datascience362\\lib\\site-packages (from requests->plotly) (2.7)\n",
      "Requirement already satisfied: urllib3<1.24,>=1.21.1 in d:\\anaconda\\envs\\datascience362\\lib\\site-packages (from requests->plotly) (1.23)\n",
      "Requirement already satisfied: traitlets>=4.1 in d:\\anaconda\\envs\\datascience362\\lib\\site-packages (from nbformat>=4.2->plotly) (4.3.2)\n",
      "Requirement already satisfied: jsonschema!=2.5.0,>=2.4 in d:\\anaconda\\envs\\datascience362\\lib\\site-packages (from nbformat>=4.2->plotly) (2.6.0)\n",
      "Requirement already satisfied: ipython-genutils in d:\\anaconda\\envs\\datascience362\\lib\\site-packages (from nbformat>=4.2->plotly) (0.2.0)\n",
      "Requirement already satisfied: jupyter-core in d:\\anaconda\\envs\\datascience362\\lib\\site-packages (from nbformat>=4.2->plotly) (4.4.0)\n"
     ]
    }
   ],
   "source": [
    "!pip install datascience\n",
    "!pip install wget\n",
    "!pip install plotly"
   ]
  },
  {
   "cell_type": "code",
   "execution_count": 1,
   "metadata": {},
   "outputs": [],
   "source": [
    "from datascience import *\n",
    "from plotly.offline import plot\n",
    "import numpy as np\n",
    "import wget\n",
    "import plotly.plotly as py\n",
    "import plotly.graph_objs as go\n",
    "import math"
   ]
  },
  {
   "cell_type": "code",
   "execution_count": 4,
   "metadata": {},
   "outputs": [
    {
     "data": {
      "text/plain": [
       "{'Different': [88998, 0.88998], 'Same': [11002, 0.11002]}"
      ]
     },
     "execution_count": 4,
     "metadata": {},
     "output_type": "execute_result"
    }
   ],
   "source": [
    "def froyoSim(trials, friends=3, flavors=['c', 's', 'v'], probs=[0.38, 0.20, 0.42]):\n",
    "    \n",
    "    resultsDict = {'Different': [0,0], 'Same': [0,0]}\n",
    "    \n",
    "    for trial in range(trials):\n",
    "        choices = list(np.random.choice(flavors, friends, probs))\n",
    "        if choices.count(choices[0]) == len(choices):\n",
    "            resultsDict['Same'][0] += 1\n",
    "        else:\n",
    "            resultsDict['Different'][0] += 1\n",
    "        resultsDict['Same'][1] = resultsDict['Same'][0]/trials\n",
    "        resultsDict['Different'][1] = resultsDict['Different'][0]/trials\n",
    "    return resultsDict\n",
    "\n",
    "froyoSim(100000)"
   ]
  },
  {
   "cell_type": "code",
   "execution_count": null,
   "metadata": {},
   "outputs": [],
   "source": [
    "def altFroyoSim(trials):\n",
    "    different = 0\n",
    "    same = 0\n",
    "    \n",
    "    for choice in trials:\n",
    "        choc = 0\n",
    "        straw = 0\n",
    "        van = 0\n",
    "        n = np.random.choice(100)\n",
    "        \n",
    "        if n < 38:\n",
    "            straw += 1\n",
    "        elif n < 80:\n",
    "            choc += 1\n",
    "        elif n >= 80:\n",
    "            van += 1\n",
    "            \n",
    "        if allDifferentComparison:\n",
    "            different += 1\n",
    "        else:\n",
    "            same += 1\n",
    "    \n",
    "    return [different, same]"
   ]
  },
  {
   "cell_type": "code",
   "execution_count": null,
   "metadata": {},
   "outputs": [],
   "source": [
    "def altAltFroyoSim(trials):\n",
    "    different = 0\n",
    "    same = 0\n",
    "    \n",
    "    for trial in trials:\n",
    "        orders = np.random.choice(['chocolate','vanilla','strawberry'], 3)\n",
    "        if allDifferentComparison:\n",
    "            different += 1\n",
    "        else:\n",
    "            same += 1\n",
    "    \n",
    "    return [different, same]"
   ]
  }
 ],
 "metadata": {
  "kernelspec": {
   "display_name": "Python 3",
   "language": "python",
   "name": "python3"
  },
  "language_info": {
   "codemirror_mode": {
    "name": "ipython",
    "version": 3
   },
   "file_extension": ".py",
   "mimetype": "text/x-python",
   "name": "python",
   "nbconvert_exporter": "python",
   "pygments_lexer": "ipython3",
   "version": "3.7.0"
  }
 },
 "nbformat": 4,
 "nbformat_minor": 2
}
